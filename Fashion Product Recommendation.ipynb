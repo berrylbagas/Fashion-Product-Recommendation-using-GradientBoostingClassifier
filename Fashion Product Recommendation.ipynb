{
 "cells": [
  {
   "cell_type": "markdown",
   "metadata": {
    "id": "2YttQyvt8Rlp"
   },
   "source": [
    "# **Fashion Product Recommendation**"
   ]
  },
  {
   "cell_type": "markdown",
   "metadata": {
    "id": "2qFNbHE78bcB"
   },
   "source": [
    "\n",
    "\n",
    "> Nama: Berryl Bagas Wirawan\n",
    "\n",
    "\n",
    "> Bahasa Pemrograman: Python\n",
    "\n",
    "\n",
    "\n"
   ]
  },
  {
   "cell_type": "markdown",
   "metadata": {
    "id": "VHRgTCn5mwH8"
   },
   "source": [
    "# Data Understanding"
   ]
  },
  {
   "cell_type": "markdown",
   "metadata": {
    "id": "Rj7Vs7y_nu0J"
   },
   "source": [
    "## Introduction to Dataset"
   ]
  },
  {
   "cell_type": "code",
   "execution_count": 1,
   "metadata": {
    "executionInfo": {
     "elapsed": 898,
     "status": "ok",
     "timestamp": 1638944324649,
     "user": {
      "displayName": "006_Berryl Bagas",
      "photoUrl": "https://lh3.googleusercontent.com/a-/AOh14GiDZMNEtuSWWuS-fsix3MeuvW88AemkkLEu8OFTyg=s64",
      "userId": "09798621404980976797"
     },
     "user_tz": -420
    },
    "id": "CGzqh82hmU1s"
   },
   "outputs": [],
   "source": [
    "import numpy as np\n",
    "import pandas as pd\n",
    "import matplotlib.pyplot as plt\n",
    "import seaborn as sns"
   ]
  },
  {
   "cell_type": "code",
   "execution_count": 2,
   "metadata": {
    "executionInfo": {
     "elapsed": 39,
     "status": "ok",
     "timestamp": 1638944330408,
     "user": {
      "displayName": "006_Berryl Bagas",
      "photoUrl": "https://lh3.googleusercontent.com/a-/AOh14GiDZMNEtuSWWuS-fsix3MeuvW88AemkkLEu8OFTyg=s64",
      "userId": "09798621404980976797"
     },
     "user_tz": -420
    },
    "id": "oQ4dO1wx01OQ"
   },
   "outputs": [],
   "source": [
    "import warnings\n",
    "warnings.filterwarnings('ignore')"
   ]
  },
  {
   "cell_type": "code",
   "execution_count": 27,
   "metadata": {
    "colab": {
     "base_uri": "https://localhost:8080/",
     "height": 206
    },
    "executionInfo": {
     "elapsed": 3379,
     "status": "ok",
     "timestamp": 1638945389345,
     "user": {
      "displayName": "006_Berryl Bagas",
      "photoUrl": "https://lh3.googleusercontent.com/a-/AOh14GiDZMNEtuSWWuS-fsix3MeuvW88AemkkLEu8OFTyg=s64",
      "userId": "09798621404980976797"
     },
     "user_tz": -420
    },
    "id": "8TVjxmD2njWo",
    "outputId": "31b8c458-43a4-44e3-dfdc-654039d597cc"
   },
   "outputs": [
    {
     "data": {
      "text/html": [
       "<div>\n",
       "<style scoped>\n",
       "    .dataframe tbody tr th:only-of-type {\n",
       "        vertical-align: middle;\n",
       "    }\n",
       "\n",
       "    .dataframe tbody tr th {\n",
       "        vertical-align: top;\n",
       "    }\n",
       "\n",
       "    .dataframe thead th {\n",
       "        text-align: right;\n",
       "    }\n",
       "</style>\n",
       "<table border=\"1\" class=\"dataframe\">\n",
       "  <thead>\n",
       "    <tr style=\"text-align: right;\">\n",
       "      <th></th>\n",
       "      <th>Clothing ID</th>\n",
       "      <th>Age</th>\n",
       "      <th>Title</th>\n",
       "      <th>Review Text</th>\n",
       "      <th>Rating</th>\n",
       "      <th>Recommended IND</th>\n",
       "      <th>Positive Feedback Count</th>\n",
       "      <th>Division Name</th>\n",
       "      <th>Department Name</th>\n",
       "      <th>Class Name</th>\n",
       "    </tr>\n",
       "  </thead>\n",
       "  <tbody>\n",
       "    <tr>\n",
       "      <th>0</th>\n",
       "      <td>767</td>\n",
       "      <td>33</td>\n",
       "      <td>NaN</td>\n",
       "      <td>Absolutely wonderful - silky and sexy and comf...</td>\n",
       "      <td>4</td>\n",
       "      <td>1</td>\n",
       "      <td>0</td>\n",
       "      <td>Initmates</td>\n",
       "      <td>Intimate</td>\n",
       "      <td>Intimates</td>\n",
       "    </tr>\n",
       "    <tr>\n",
       "      <th>1</th>\n",
       "      <td>1080</td>\n",
       "      <td>34</td>\n",
       "      <td>NaN</td>\n",
       "      <td>Love this dress!  it's sooo pretty.  i happene...</td>\n",
       "      <td>5</td>\n",
       "      <td>1</td>\n",
       "      <td>4</td>\n",
       "      <td>General</td>\n",
       "      <td>Dresses</td>\n",
       "      <td>Dresses</td>\n",
       "    </tr>\n",
       "    <tr>\n",
       "      <th>2</th>\n",
       "      <td>1077</td>\n",
       "      <td>60</td>\n",
       "      <td>Some major design flaws</td>\n",
       "      <td>I had such high hopes for this dress and reall...</td>\n",
       "      <td>3</td>\n",
       "      <td>0</td>\n",
       "      <td>0</td>\n",
       "      <td>General</td>\n",
       "      <td>Dresses</td>\n",
       "      <td>Dresses</td>\n",
       "    </tr>\n",
       "    <tr>\n",
       "      <th>3</th>\n",
       "      <td>1049</td>\n",
       "      <td>50</td>\n",
       "      <td>My favorite buy!</td>\n",
       "      <td>I love, love, love this jumpsuit. it's fun, fl...</td>\n",
       "      <td>5</td>\n",
       "      <td>1</td>\n",
       "      <td>0</td>\n",
       "      <td>General Petite</td>\n",
       "      <td>Bottoms</td>\n",
       "      <td>Pants</td>\n",
       "    </tr>\n",
       "    <tr>\n",
       "      <th>4</th>\n",
       "      <td>847</td>\n",
       "      <td>47</td>\n",
       "      <td>Flattering shirt</td>\n",
       "      <td>This shirt is very flattering to all due to th...</td>\n",
       "      <td>5</td>\n",
       "      <td>1</td>\n",
       "      <td>6</td>\n",
       "      <td>General</td>\n",
       "      <td>Tops</td>\n",
       "      <td>Blouses</td>\n",
       "    </tr>\n",
       "  </tbody>\n",
       "</table>\n",
       "</div>"
      ],
      "text/plain": [
       "   Clothing ID  Age  ... Department Name Class Name\n",
       "0          767   33  ...        Intimate  Intimates\n",
       "1         1080   34  ...         Dresses    Dresses\n",
       "2         1077   60  ...         Dresses    Dresses\n",
       "3         1049   50  ...         Bottoms      Pants\n",
       "4          847   47  ...            Tops    Blouses\n",
       "\n",
       "[5 rows x 10 columns]"
      ]
     },
     "execution_count": 27,
     "metadata": {},
     "output_type": "execute_result"
    }
   ],
   "source": [
    "df=pd.read_excel(\"/content/Dataset_6 - Fashion.xlsx\")\n",
    "df.head()"
   ]
  },
  {
   "cell_type": "markdown",
   "metadata": {
    "id": "h2wFzHyVnzFO"
   },
   "source": [
    "## Business Problem"
   ]
  },
  {
   "cell_type": "markdown",
   "metadata": {
    "id": "c9_FVEXzp_5h"
   },
   "source": [
    "\n",
    "\n",
    "1.  Produk pakaian seperti apa yang paling populer bagi pelanggan?\n",
    "2.  Bagaimana cara untuk memprediksi produk rekomendasi pakaian yang tepat?\n",
    "\n"
   ]
  },
  {
   "cell_type": "markdown",
   "metadata": {
    "id": "E0idwjsQm4Ew"
   },
   "source": [
    "# Data Preparation"
   ]
  },
  {
   "cell_type": "markdown",
   "metadata": {
    "id": "dOc7W_EiqhCd"
   },
   "source": [
    "## Check Missing Value"
   ]
  },
  {
   "cell_type": "code",
   "execution_count": null,
   "metadata": {
    "colab": {
     "base_uri": "https://localhost:8080/"
    },
    "executionInfo": {
     "elapsed": 543,
     "status": "ok",
     "timestamp": 1638895180458,
     "user": {
      "displayName": "006_Berryl Bagas",
      "photoUrl": "https://lh3.googleusercontent.com/a-/AOh14GiDZMNEtuSWWuS-fsix3MeuvW88AemkkLEu8OFTyg=s64",
      "userId": "09798621404980976797"
     },
     "user_tz": -420
    },
    "id": "fyQU50vuqsho",
    "outputId": "2b0d9a0a-2606-482f-d43e-93ab780812da"
   },
   "outputs": [
    {
     "data": {
      "text/plain": [
       "Clothing ID                   0\n",
       "Age                           0\n",
       "Title                      3810\n",
       "Review Text                 845\n",
       "Rating                        0\n",
       "Recommended IND               0\n",
       "Positive Feedback Count       0\n",
       "Division Name                14\n",
       "Department Name              14\n",
       "Class Name                   14\n",
       "dtype: int64"
      ]
     },
     "execution_count": 87,
     "metadata": {},
     "output_type": "execute_result"
    }
   ],
   "source": [
    "df.isnull().sum(axis=0)"
   ]
  },
  {
   "cell_type": "code",
   "execution_count": 10,
   "metadata": {
    "executionInfo": {
     "elapsed": 405,
     "status": "ok",
     "timestamp": 1638944610179,
     "user": {
      "displayName": "006_Berryl Bagas",
      "photoUrl": "https://lh3.googleusercontent.com/a-/AOh14GiDZMNEtuSWWuS-fsix3MeuvW88AemkkLEu8OFTyg=s64",
      "userId": "09798621404980976797"
     },
     "user_tz": -420
    },
    "id": "RAmvWNV5oIQo"
   },
   "outputs": [],
   "source": [
    "df = df.fillna('noname')"
   ]
  },
  {
   "cell_type": "markdown",
   "metadata": {
    "id": "2JXunQYPqkvi"
   },
   "source": [
    "## Check Datatype"
   ]
  },
  {
   "cell_type": "code",
   "execution_count": 29,
   "metadata": {
    "colab": {
     "base_uri": "https://localhost:8080/"
    },
    "executionInfo": {
     "elapsed": 472,
     "status": "ok",
     "timestamp": 1638945396422,
     "user": {
      "displayName": "006_Berryl Bagas",
      "photoUrl": "https://lh3.googleusercontent.com/a-/AOh14GiDZMNEtuSWWuS-fsix3MeuvW88AemkkLEu8OFTyg=s64",
      "userId": "09798621404980976797"
     },
     "user_tz": -420
    },
    "id": "6z60AfbAq5bY",
    "outputId": "0369237b-eb63-467e-91aa-267b66538673"
   },
   "outputs": [
    {
     "name": "stdout",
     "output_type": "stream",
     "text": [
      "<class 'pandas.core.frame.DataFrame'>\n",
      "RangeIndex: 23486 entries, 0 to 23485\n",
      "Data columns (total 10 columns):\n",
      " #   Column                   Non-Null Count  Dtype \n",
      "---  ------                   --------------  ----- \n",
      " 0   Clothing ID              23486 non-null  int64 \n",
      " 1   Age                      23486 non-null  int64 \n",
      " 2   Title                    19676 non-null  object\n",
      " 3   Review Text              22641 non-null  object\n",
      " 4   Rating                   23486 non-null  int64 \n",
      " 5   Recommended IND          23486 non-null  int64 \n",
      " 6   Positive Feedback Count  23486 non-null  int64 \n",
      " 7   Division Name            23472 non-null  object\n",
      " 8   Department Name          23472 non-null  object\n",
      " 9   Class Name               23472 non-null  object\n",
      "dtypes: int64(5), object(5)\n",
      "memory usage: 1.8+ MB\n"
     ]
    }
   ],
   "source": [
    "df.info()"
   ]
  },
  {
   "cell_type": "markdown",
   "metadata": {
    "id": "X485OMW-q6MS"
   },
   "source": [
    "Masih ada beberapa peubah yang memiliki type data object, maka harus diubah ke tipe data numerik atau kategori"
   ]
  },
  {
   "cell_type": "code",
   "execution_count": 11,
   "metadata": {
    "colab": {
     "base_uri": "https://localhost:8080/"
    },
    "executionInfo": {
     "elapsed": 647,
     "status": "ok",
     "timestamp": 1638944613896,
     "user": {
      "displayName": "006_Berryl Bagas",
      "photoUrl": "https://lh3.googleusercontent.com/a-/AOh14GiDZMNEtuSWWuS-fsix3MeuvW88AemkkLEu8OFTyg=s64",
      "userId": "09798621404980976797"
     },
     "user_tz": -420
    },
    "id": "A3zZR9BNrE0n",
    "outputId": "1d83afd1-771a-40fd-d4ea-d2fd80c15526"
   },
   "outputs": [
    {
     "name": "stdout",
     "output_type": "stream",
     "text": [
      "<class 'pandas.core.frame.DataFrame'>\n",
      "RangeIndex: 23486 entries, 0 to 23485\n",
      "Data columns (total 10 columns):\n",
      " #   Column                   Non-Null Count  Dtype   \n",
      "---  ------                   --------------  -----   \n",
      " 0   Clothing ID              23486 non-null  category\n",
      " 1   Age                      23486 non-null  category\n",
      " 2   Title                    23486 non-null  object  \n",
      " 3   Review Text              23486 non-null  object  \n",
      " 4   Rating                   23486 non-null  category\n",
      " 5   Recommended IND          23486 non-null  category\n",
      " 6   Positive Feedback Count  23486 non-null  int64   \n",
      " 7   Division Name            23486 non-null  category\n",
      " 8   Department Name          23486 non-null  category\n",
      " 9   Class Name               23486 non-null  category\n",
      "dtypes: category(7), int64(1), object(2)\n",
      "memory usage: 788.2+ KB\n"
     ]
    }
   ],
   "source": [
    "def data_types(data):\n",
    "  nominal = ['Clothing ID','Recommended IND','Division Name','Department Name','Class Name']\n",
    "  ordinal = ['Age','Rating']\n",
    "\n",
    "  #convert\n",
    "  data[nominal] = data[nominal].astype( 'category')\n",
    "  data[ordinal] = data[ordinal].astype(  'category')\n",
    "\n",
    "\n",
    "  return data\n",
    "\n",
    "df = data_types(df)\n",
    "df.info()"
   ]
  },
  {
   "cell_type": "markdown",
   "metadata": {
    "id": "P96n8qi7rK-p"
   },
   "source": [
    "Data siap digunakan untuk EDA"
   ]
  },
  {
   "cell_type": "markdown",
   "metadata": {
    "id": "4hwsH3Cnm7-M"
   },
   "source": [
    "# Exploratory Data Analysis"
   ]
  },
  {
   "cell_type": "markdown",
   "metadata": {
    "id": "L-KTIS08rexN"
   },
   "source": [
    "## Data Describe"
   ]
  },
  {
   "cell_type": "code",
   "execution_count": null,
   "metadata": {
    "colab": {
     "base_uri": "https://localhost:8080/",
     "height": 300
    },
    "executionInfo": {
     "elapsed": 450,
     "status": "ok",
     "timestamp": 1638892412570,
     "user": {
      "displayName": "006_Berryl Bagas",
      "photoUrl": "https://lh3.googleusercontent.com/a-/AOh14GiDZMNEtuSWWuS-fsix3MeuvW88AemkkLEu8OFTyg=s64",
      "userId": "09798621404980976797"
     },
     "user_tz": -420
    },
    "id": "mUIgMoRbrimf",
    "outputId": "da4a451c-22ca-4a1c-cc02-214b9e60f773"
   },
   "outputs": [
    {
     "data": {
      "text/html": [
       "<div>\n",
       "<style scoped>\n",
       "    .dataframe tbody tr th:only-of-type {\n",
       "        vertical-align: middle;\n",
       "    }\n",
       "\n",
       "    .dataframe tbody tr th {\n",
       "        vertical-align: top;\n",
       "    }\n",
       "\n",
       "    .dataframe thead th {\n",
       "        text-align: right;\n",
       "    }\n",
       "</style>\n",
       "<table border=\"1\" class=\"dataframe\">\n",
       "  <thead>\n",
       "    <tr style=\"text-align: right;\">\n",
       "      <th></th>\n",
       "      <th>Positive Feedback Count</th>\n",
       "    </tr>\n",
       "  </thead>\n",
       "  <tbody>\n",
       "    <tr>\n",
       "      <th>count</th>\n",
       "      <td>23486.000000</td>\n",
       "    </tr>\n",
       "    <tr>\n",
       "      <th>mean</th>\n",
       "      <td>2.535936</td>\n",
       "    </tr>\n",
       "    <tr>\n",
       "      <th>std</th>\n",
       "      <td>5.702202</td>\n",
       "    </tr>\n",
       "    <tr>\n",
       "      <th>min</th>\n",
       "      <td>0.000000</td>\n",
       "    </tr>\n",
       "    <tr>\n",
       "      <th>25%</th>\n",
       "      <td>0.000000</td>\n",
       "    </tr>\n",
       "    <tr>\n",
       "      <th>50%</th>\n",
       "      <td>1.000000</td>\n",
       "    </tr>\n",
       "    <tr>\n",
       "      <th>75%</th>\n",
       "      <td>3.000000</td>\n",
       "    </tr>\n",
       "    <tr>\n",
       "      <th>max</th>\n",
       "      <td>122.000000</td>\n",
       "    </tr>\n",
       "  </tbody>\n",
       "</table>\n",
       "</div>"
      ],
      "text/plain": [
       "       Positive Feedback Count\n",
       "count             23486.000000\n",
       "mean                  2.535936\n",
       "std                   5.702202\n",
       "min                   0.000000\n",
       "25%                   0.000000\n",
       "50%                   1.000000\n",
       "75%                   3.000000\n",
       "max                 122.000000"
      ]
     },
     "execution_count": 9,
     "metadata": {},
     "output_type": "execute_result"
    }
   ],
   "source": [
    "df.describe()"
   ]
  },
  {
   "cell_type": "markdown",
   "metadata": {
    "id": "QjzcjZB8nE1G"
   },
   "source": [
    "## Positive Feedback (Pakaian)"
   ]
  },
  {
   "cell_type": "code",
   "execution_count": 5,
   "metadata": {
    "colab": {
     "base_uri": "https://localhost:8080/",
     "height": 676
    },
    "executionInfo": {
     "elapsed": 487,
     "status": "ok",
     "timestamp": 1638944363007,
     "user": {
      "displayName": "006_Berryl Bagas",
      "photoUrl": "https://lh3.googleusercontent.com/a-/AOh14GiDZMNEtuSWWuS-fsix3MeuvW88AemkkLEu8OFTyg=s64",
      "userId": "09798621404980976797"
     },
     "user_tz": -420
    },
    "id": "3WAFWqBNnLsP",
    "outputId": "419359ba-8bba-4478-dae2-31ec1f0145e6"
   },
   "outputs": [
    {
     "data": {
      "text/html": [
       "<div>\n",
       "<style scoped>\n",
       "    .dataframe tbody tr th:only-of-type {\n",
       "        vertical-align: middle;\n",
       "    }\n",
       "\n",
       "    .dataframe tbody tr th {\n",
       "        vertical-align: top;\n",
       "    }\n",
       "\n",
       "    .dataframe thead th {\n",
       "        text-align: right;\n",
       "    }\n",
       "</style>\n",
       "<table border=\"1\" class=\"dataframe\">\n",
       "  <thead>\n",
       "    <tr style=\"text-align: right;\">\n",
       "      <th></th>\n",
       "      <th>Class Name</th>\n",
       "      <th>Positive Feedback Count</th>\n",
       "    </tr>\n",
       "  </thead>\n",
       "  <tbody>\n",
       "    <tr>\n",
       "      <th>3</th>\n",
       "      <td>Dresses</td>\n",
       "      <td>19510</td>\n",
       "    </tr>\n",
       "    <tr>\n",
       "      <th>8</th>\n",
       "      <td>Knits</td>\n",
       "      <td>11598</td>\n",
       "    </tr>\n",
       "    <tr>\n",
       "      <th>0</th>\n",
       "      <td>Blouses</td>\n",
       "      <td>8440</td>\n",
       "    </tr>\n",
       "    <tr>\n",
       "      <th>13</th>\n",
       "      <td>Pants</td>\n",
       "      <td>3327</td>\n",
       "    </tr>\n",
       "    <tr>\n",
       "      <th>17</th>\n",
       "      <td>Sweaters</td>\n",
       "      <td>3154</td>\n",
       "    </tr>\n",
       "    <tr>\n",
       "      <th>4</th>\n",
       "      <td>Fine gauge</td>\n",
       "      <td>2215</td>\n",
       "    </tr>\n",
       "    <tr>\n",
       "      <th>15</th>\n",
       "      <td>Skirts</td>\n",
       "      <td>2167</td>\n",
       "    </tr>\n",
       "    <tr>\n",
       "      <th>7</th>\n",
       "      <td>Jeans</td>\n",
       "      <td>2018</td>\n",
       "    </tr>\n",
       "    <tr>\n",
       "      <th>6</th>\n",
       "      <td>Jackets</td>\n",
       "      <td>1990</td>\n",
       "    </tr>\n",
       "    <tr>\n",
       "      <th>11</th>\n",
       "      <td>Lounge</td>\n",
       "      <td>1604</td>\n",
       "    </tr>\n",
       "    <tr>\n",
       "      <th>12</th>\n",
       "      <td>Outerwear</td>\n",
       "      <td>926</td>\n",
       "    </tr>\n",
       "    <tr>\n",
       "      <th>18</th>\n",
       "      <td>Swim</td>\n",
       "      <td>750</td>\n",
       "    </tr>\n",
       "    <tr>\n",
       "      <th>14</th>\n",
       "      <td>Shorts</td>\n",
       "      <td>531</td>\n",
       "    </tr>\n",
       "    <tr>\n",
       "      <th>19</th>\n",
       "      <td>Trend</td>\n",
       "      <td>401</td>\n",
       "    </tr>\n",
       "    <tr>\n",
       "      <th>16</th>\n",
       "      <td>Sleep</td>\n",
       "      <td>399</td>\n",
       "    </tr>\n",
       "    <tr>\n",
       "      <th>10</th>\n",
       "      <td>Legwear</td>\n",
       "      <td>210</td>\n",
       "    </tr>\n",
       "    <tr>\n",
       "      <th>9</th>\n",
       "      <td>Layering</td>\n",
       "      <td>192</td>\n",
       "    </tr>\n",
       "    <tr>\n",
       "      <th>5</th>\n",
       "      <td>Intimates</td>\n",
       "      <td>120</td>\n",
       "    </tr>\n",
       "    <tr>\n",
       "      <th>1</th>\n",
       "      <td>Casual bottoms</td>\n",
       "      <td>0</td>\n",
       "    </tr>\n",
       "    <tr>\n",
       "      <th>2</th>\n",
       "      <td>Chemises</td>\n",
       "      <td>0</td>\n",
       "    </tr>\n",
       "  </tbody>\n",
       "</table>\n",
       "</div>"
      ],
      "text/plain": [
       "        Class Name  Positive Feedback Count\n",
       "3          Dresses                    19510\n",
       "8            Knits                    11598\n",
       "0          Blouses                     8440\n",
       "13           Pants                     3327\n",
       "17        Sweaters                     3154\n",
       "4       Fine gauge                     2215\n",
       "15          Skirts                     2167\n",
       "7            Jeans                     2018\n",
       "6          Jackets                     1990\n",
       "11          Lounge                     1604\n",
       "12       Outerwear                      926\n",
       "18            Swim                      750\n",
       "14          Shorts                      531\n",
       "19           Trend                      401\n",
       "16           Sleep                      399\n",
       "10         Legwear                      210\n",
       "9         Layering                      192\n",
       "5        Intimates                      120\n",
       "1   Casual bottoms                        0\n",
       "2         Chemises                        0"
      ]
     },
     "execution_count": 5,
     "metadata": {},
     "output_type": "execute_result"
    }
   ],
   "source": [
    "a = df.groupby(['Class Name']).agg({'Positive Feedback Count':'sum'}).reset_index()\n",
    "a.sort_values(by='Positive Feedback Count',ascending=False)"
   ]
  },
  {
   "cell_type": "markdown",
   "metadata": {
    "id": "EGTzM2qd09HK"
   },
   "source": [
    "Dapat kita lihat bahwa pakaian Dresses merupakan produk yang paling banyak mendapatkan positive feedback, disusul oleh Knits, Blouses dan Pants"
   ]
  },
  {
   "cell_type": "markdown",
   "metadata": {
    "id": "n-Uyo0Msvuew"
   },
   "source": [
    "## Rating (Pakaian)"
   ]
  },
  {
   "cell_type": "code",
   "execution_count": 9,
   "metadata": {
    "colab": {
     "base_uri": "https://localhost:8080/",
     "height": 676
    },
    "executionInfo": {
     "elapsed": 396,
     "status": "ok",
     "timestamp": 1638944513132,
     "user": {
      "displayName": "006_Berryl Bagas",
      "photoUrl": "https://lh3.googleusercontent.com/a-/AOh14GiDZMNEtuSWWuS-fsix3MeuvW88AemkkLEu8OFTyg=s64",
      "userId": "09798621404980976797"
     },
     "user_tz": -420
    },
    "id": "ys70Wd1Zv4hS",
    "outputId": "c411f5a1-4c14-411c-8f43-e4b6382d9c01"
   },
   "outputs": [
    {
     "data": {
      "text/html": [
       "<div>\n",
       "<style scoped>\n",
       "    .dataframe tbody tr th:only-of-type {\n",
       "        vertical-align: middle;\n",
       "    }\n",
       "\n",
       "    .dataframe tbody tr th {\n",
       "        vertical-align: top;\n",
       "    }\n",
       "\n",
       "    .dataframe thead th {\n",
       "        text-align: right;\n",
       "    }\n",
       "</style>\n",
       "<table border=\"1\" class=\"dataframe\">\n",
       "  <thead>\n",
       "    <tr style=\"text-align: right;\">\n",
       "      <th></th>\n",
       "      <th>Class Name</th>\n",
       "      <th>Rating</th>\n",
       "    </tr>\n",
       "  </thead>\n",
       "  <tbody>\n",
       "    <tr>\n",
       "      <th>1</th>\n",
       "      <td>Casual bottoms</td>\n",
       "      <td>4.500000</td>\n",
       "    </tr>\n",
       "    <tr>\n",
       "      <th>9</th>\n",
       "      <td>Layering</td>\n",
       "      <td>4.376712</td>\n",
       "    </tr>\n",
       "    <tr>\n",
       "      <th>7</th>\n",
       "      <td>Jeans</td>\n",
       "      <td>4.360942</td>\n",
       "    </tr>\n",
       "    <tr>\n",
       "      <th>11</th>\n",
       "      <td>Lounge</td>\n",
       "      <td>4.301013</td>\n",
       "    </tr>\n",
       "    <tr>\n",
       "      <th>6</th>\n",
       "      <td>Jackets</td>\n",
       "      <td>4.295455</td>\n",
       "    </tr>\n",
       "    <tr>\n",
       "      <th>16</th>\n",
       "      <td>Sleep</td>\n",
       "      <td>4.285088</td>\n",
       "    </tr>\n",
       "    <tr>\n",
       "      <th>5</th>\n",
       "      <td>Intimates</td>\n",
       "      <td>4.279221</td>\n",
       "    </tr>\n",
       "    <tr>\n",
       "      <th>10</th>\n",
       "      <td>Legwear</td>\n",
       "      <td>4.278788</td>\n",
       "    </tr>\n",
       "    <tr>\n",
       "      <th>13</th>\n",
       "      <td>Pants</td>\n",
       "      <td>4.265850</td>\n",
       "    </tr>\n",
       "    <tr>\n",
       "      <th>4</th>\n",
       "      <td>Fine gauge</td>\n",
       "      <td>4.260909</td>\n",
       "    </tr>\n",
       "    <tr>\n",
       "      <th>14</th>\n",
       "      <td>Shorts</td>\n",
       "      <td>4.255521</td>\n",
       "    </tr>\n",
       "    <tr>\n",
       "      <th>15</th>\n",
       "      <td>Skirts</td>\n",
       "      <td>4.245503</td>\n",
       "    </tr>\n",
       "    <tr>\n",
       "      <th>12</th>\n",
       "      <td>Outerwear</td>\n",
       "      <td>4.198171</td>\n",
       "    </tr>\n",
       "    <tr>\n",
       "      <th>18</th>\n",
       "      <td>Swim</td>\n",
       "      <td>4.197143</td>\n",
       "    </tr>\n",
       "    <tr>\n",
       "      <th>17</th>\n",
       "      <td>Sweaters</td>\n",
       "      <td>4.179272</td>\n",
       "    </tr>\n",
       "    <tr>\n",
       "      <th>8</th>\n",
       "      <td>Knits</td>\n",
       "      <td>4.161677</td>\n",
       "    </tr>\n",
       "    <tr>\n",
       "      <th>0</th>\n",
       "      <td>Blouses</td>\n",
       "      <td>4.154020</td>\n",
       "    </tr>\n",
       "    <tr>\n",
       "      <th>3</th>\n",
       "      <td>Dresses</td>\n",
       "      <td>4.150815</td>\n",
       "    </tr>\n",
       "    <tr>\n",
       "      <th>2</th>\n",
       "      <td>Chemises</td>\n",
       "      <td>4.000000</td>\n",
       "    </tr>\n",
       "    <tr>\n",
       "      <th>19</th>\n",
       "      <td>Trend</td>\n",
       "      <td>3.815126</td>\n",
       "    </tr>\n",
       "  </tbody>\n",
       "</table>\n",
       "</div>"
      ],
      "text/plain": [
       "        Class Name    Rating\n",
       "1   Casual bottoms  4.500000\n",
       "9         Layering  4.376712\n",
       "7            Jeans  4.360942\n",
       "11          Lounge  4.301013\n",
       "6          Jackets  4.295455\n",
       "16           Sleep  4.285088\n",
       "5        Intimates  4.279221\n",
       "10         Legwear  4.278788\n",
       "13           Pants  4.265850\n",
       "4       Fine gauge  4.260909\n",
       "14          Shorts  4.255521\n",
       "15          Skirts  4.245503\n",
       "12       Outerwear  4.198171\n",
       "18            Swim  4.197143\n",
       "17        Sweaters  4.179272\n",
       "8            Knits  4.161677\n",
       "0          Blouses  4.154020\n",
       "3          Dresses  4.150815\n",
       "2         Chemises  4.000000\n",
       "19           Trend  3.815126"
      ]
     },
     "execution_count": 9,
     "metadata": {},
     "output_type": "execute_result"
    }
   ],
   "source": [
    "a = df.groupby(['Class Name']).agg({'Rating':'mean'}).reset_index()\n",
    "a.sort_values(by='Rating',ascending=False)"
   ]
  },
  {
   "cell_type": "markdown",
   "metadata": {
    "id": "ZcEc_9mKwgu2"
   },
   "source": [
    "Rataan rating penjualan produk rentang 3.8 hingga 4.5. Hal tersebut dapat dikatakan rating setiap produk masih cukup baik."
   ]
  },
  {
   "cell_type": "markdown",
   "metadata": {
    "id": "SHmjU13KsnTx"
   },
   "source": [
    "## Most Recommended (Pakaian)"
   ]
  },
  {
   "cell_type": "code",
   "execution_count": 7,
   "metadata": {
    "colab": {
     "base_uri": "https://localhost:8080/",
     "height": 676
    },
    "executionInfo": {
     "elapsed": 486,
     "status": "ok",
     "timestamp": 1638944484635,
     "user": {
      "displayName": "006_Berryl Bagas",
      "photoUrl": "https://lh3.googleusercontent.com/a-/AOh14GiDZMNEtuSWWuS-fsix3MeuvW88AemkkLEu8OFTyg=s64",
      "userId": "09798621404980976797"
     },
     "user_tz": -420
    },
    "id": "_kZmVjUvsyGS",
    "outputId": "4d5252bc-33c4-43ff-ce41-5aa9a889ce2a"
   },
   "outputs": [
    {
     "data": {
      "text/html": [
       "<div>\n",
       "<style scoped>\n",
       "    .dataframe tbody tr th:only-of-type {\n",
       "        vertical-align: middle;\n",
       "    }\n",
       "\n",
       "    .dataframe tbody tr th {\n",
       "        vertical-align: top;\n",
       "    }\n",
       "\n",
       "    .dataframe thead th {\n",
       "        text-align: right;\n",
       "    }\n",
       "</style>\n",
       "<table border=\"1\" class=\"dataframe\">\n",
       "  <thead>\n",
       "    <tr style=\"text-align: right;\">\n",
       "      <th></th>\n",
       "      <th>Class Name</th>\n",
       "      <th>Recommended IND</th>\n",
       "    </tr>\n",
       "  </thead>\n",
       "  <tbody>\n",
       "    <tr>\n",
       "      <th>3</th>\n",
       "      <td>Dresses</td>\n",
       "      <td>5107</td>\n",
       "    </tr>\n",
       "    <tr>\n",
       "      <th>8</th>\n",
       "      <td>Knits</td>\n",
       "      <td>3960</td>\n",
       "    </tr>\n",
       "    <tr>\n",
       "      <th>0</th>\n",
       "      <td>Blouses</td>\n",
       "      <td>2509</td>\n",
       "    </tr>\n",
       "    <tr>\n",
       "      <th>13</th>\n",
       "      <td>Pants</td>\n",
       "      <td>1156</td>\n",
       "    </tr>\n",
       "    <tr>\n",
       "      <th>17</th>\n",
       "      <td>Sweaters</td>\n",
       "      <td>1143</td>\n",
       "    </tr>\n",
       "    <tr>\n",
       "      <th>7</th>\n",
       "      <td>Jeans</td>\n",
       "      <td>1011</td>\n",
       "    </tr>\n",
       "    <tr>\n",
       "      <th>4</th>\n",
       "      <td>Fine gauge</td>\n",
       "      <td>921</td>\n",
       "    </tr>\n",
       "    <tr>\n",
       "      <th>15</th>\n",
       "      <td>Skirts</td>\n",
       "      <td>799</td>\n",
       "    </tr>\n",
       "    <tr>\n",
       "      <th>6</th>\n",
       "      <td>Jackets</td>\n",
       "      <td>595</td>\n",
       "    </tr>\n",
       "    <tr>\n",
       "      <th>11</th>\n",
       "      <td>Lounge</td>\n",
       "      <td>594</td>\n",
       "    </tr>\n",
       "    <tr>\n",
       "      <th>18</th>\n",
       "      <td>Swim</td>\n",
       "      <td>282</td>\n",
       "    </tr>\n",
       "    <tr>\n",
       "      <th>12</th>\n",
       "      <td>Outerwear</td>\n",
       "      <td>268</td>\n",
       "    </tr>\n",
       "    <tr>\n",
       "      <th>14</th>\n",
       "      <td>Shorts</td>\n",
       "      <td>266</td>\n",
       "    </tr>\n",
       "    <tr>\n",
       "      <th>16</th>\n",
       "      <td>Sleep</td>\n",
       "      <td>195</td>\n",
       "    </tr>\n",
       "    <tr>\n",
       "      <th>10</th>\n",
       "      <td>Legwear</td>\n",
       "      <td>142</td>\n",
       "    </tr>\n",
       "    <tr>\n",
       "      <th>5</th>\n",
       "      <td>Intimates</td>\n",
       "      <td>132</td>\n",
       "    </tr>\n",
       "    <tr>\n",
       "      <th>9</th>\n",
       "      <td>Layering</td>\n",
       "      <td>129</td>\n",
       "    </tr>\n",
       "    <tr>\n",
       "      <th>19</th>\n",
       "      <td>Trend</td>\n",
       "      <td>88</td>\n",
       "    </tr>\n",
       "    <tr>\n",
       "      <th>1</th>\n",
       "      <td>Casual bottoms</td>\n",
       "      <td>2</td>\n",
       "    </tr>\n",
       "    <tr>\n",
       "      <th>2</th>\n",
       "      <td>Chemises</td>\n",
       "      <td>1</td>\n",
       "    </tr>\n",
       "  </tbody>\n",
       "</table>\n",
       "</div>"
      ],
      "text/plain": [
       "        Class Name  Recommended IND\n",
       "3          Dresses             5107\n",
       "8            Knits             3960\n",
       "0          Blouses             2509\n",
       "13           Pants             1156\n",
       "17        Sweaters             1143\n",
       "7            Jeans             1011\n",
       "4       Fine gauge              921\n",
       "15          Skirts              799\n",
       "6          Jackets              595\n",
       "11          Lounge              594\n",
       "18            Swim              282\n",
       "12       Outerwear              268\n",
       "14          Shorts              266\n",
       "16           Sleep              195\n",
       "10         Legwear              142\n",
       "5        Intimates              132\n",
       "9         Layering              129\n",
       "19           Trend               88\n",
       "1   Casual bottoms                2\n",
       "2         Chemises                1"
      ]
     },
     "execution_count": 7,
     "metadata": {},
     "output_type": "execute_result"
    }
   ],
   "source": [
    "a = df.groupby(['Class Name']).agg({'Recommended IND':'sum'}).reset_index()\n",
    "a.sort_values(by='Recommended IND',ascending=False)"
   ]
  },
  {
   "cell_type": "markdown",
   "metadata": {
    "id": "VDJTd_lItQU9"
   },
   "source": [
    "Dresses, Knits dan Blouses mejadi pakaian yang paling sering muncul sebagai produk rekomendasi"
   ]
  },
  {
   "cell_type": "markdown",
   "metadata": {
    "id": "iGjGOJz8nA2J"
   },
   "source": [
    "# Data Preprocessing"
   ]
  },
  {
   "cell_type": "markdown",
   "metadata": {
    "id": "-cWEwsO_vp7h"
   },
   "source": [
    "## Encoder"
   ]
  },
  {
   "cell_type": "code",
   "execution_count": 7,
   "metadata": {
    "colab": {
     "base_uri": "https://localhost:8080/",
     "height": 206
    },
    "executionInfo": {
     "elapsed": 69,
     "status": "ok",
     "timestamp": 1638931742763,
     "user": {
      "displayName": "006_Berryl Bagas",
      "photoUrl": "https://lh3.googleusercontent.com/a-/AOh14GiDZMNEtuSWWuS-fsix3MeuvW88AemkkLEu8OFTyg=s64",
      "userId": "09798621404980976797"
     },
     "user_tz": -420
    },
    "id": "TnEaxdCa4T35",
    "outputId": "03ec707f-06c7-450c-8d28-a38a2ef4d736"
   },
   "outputs": [
    {
     "data": {
      "text/html": [
       "<div>\n",
       "<style scoped>\n",
       "    .dataframe tbody tr th:only-of-type {\n",
       "        vertical-align: middle;\n",
       "    }\n",
       "\n",
       "    .dataframe tbody tr th {\n",
       "        vertical-align: top;\n",
       "    }\n",
       "\n",
       "    .dataframe thead th {\n",
       "        text-align: right;\n",
       "    }\n",
       "</style>\n",
       "<table border=\"1\" class=\"dataframe\">\n",
       "  <thead>\n",
       "    <tr style=\"text-align: right;\">\n",
       "      <th></th>\n",
       "      <th>Clothing ID</th>\n",
       "      <th>Age</th>\n",
       "      <th>Title</th>\n",
       "      <th>Review Text</th>\n",
       "      <th>Rating</th>\n",
       "      <th>Recommended IND</th>\n",
       "      <th>Positive Feedback Count</th>\n",
       "      <th>Division Name</th>\n",
       "      <th>Department Name</th>\n",
       "      <th>Class Name</th>\n",
       "    </tr>\n",
       "  </thead>\n",
       "  <tbody>\n",
       "    <tr>\n",
       "      <th>0</th>\n",
       "      <td>767</td>\n",
       "      <td>33</td>\n",
       "      <td>noname</td>\n",
       "      <td>Absolutely wonderful - silky and sexy and comf...</td>\n",
       "      <td>4</td>\n",
       "      <td>1</td>\n",
       "      <td>0</td>\n",
       "      <td>Initmates</td>\n",
       "      <td>Intimate</td>\n",
       "      <td>Intimates</td>\n",
       "    </tr>\n",
       "    <tr>\n",
       "      <th>1</th>\n",
       "      <td>1080</td>\n",
       "      <td>34</td>\n",
       "      <td>noname</td>\n",
       "      <td>Love this dress!  it's sooo pretty.  i happene...</td>\n",
       "      <td>5</td>\n",
       "      <td>1</td>\n",
       "      <td>4</td>\n",
       "      <td>General</td>\n",
       "      <td>Dresses</td>\n",
       "      <td>Dresses</td>\n",
       "    </tr>\n",
       "    <tr>\n",
       "      <th>2</th>\n",
       "      <td>1077</td>\n",
       "      <td>60</td>\n",
       "      <td>Some major design flaws</td>\n",
       "      <td>I had such high hopes for this dress and reall...</td>\n",
       "      <td>3</td>\n",
       "      <td>0</td>\n",
       "      <td>0</td>\n",
       "      <td>General</td>\n",
       "      <td>Dresses</td>\n",
       "      <td>Dresses</td>\n",
       "    </tr>\n",
       "    <tr>\n",
       "      <th>3</th>\n",
       "      <td>1049</td>\n",
       "      <td>50</td>\n",
       "      <td>My favorite buy!</td>\n",
       "      <td>I love, love, love this jumpsuit. it's fun, fl...</td>\n",
       "      <td>5</td>\n",
       "      <td>1</td>\n",
       "      <td>0</td>\n",
       "      <td>General Petite</td>\n",
       "      <td>Bottoms</td>\n",
       "      <td>Pants</td>\n",
       "    </tr>\n",
       "    <tr>\n",
       "      <th>4</th>\n",
       "      <td>847</td>\n",
       "      <td>47</td>\n",
       "      <td>Flattering shirt</td>\n",
       "      <td>This shirt is very flattering to all due to th...</td>\n",
       "      <td>5</td>\n",
       "      <td>1</td>\n",
       "      <td>6</td>\n",
       "      <td>General</td>\n",
       "      <td>Tops</td>\n",
       "      <td>Blouses</td>\n",
       "    </tr>\n",
       "  </tbody>\n",
       "</table>\n",
       "</div>"
      ],
      "text/plain": [
       "  Clothing ID Age  ... Department Name Class Name\n",
       "0         767  33  ...        Intimate  Intimates\n",
       "1        1080  34  ...         Dresses    Dresses\n",
       "2        1077  60  ...         Dresses    Dresses\n",
       "3        1049  50  ...         Bottoms      Pants\n",
       "4         847  47  ...            Tops    Blouses\n",
       "\n",
       "[5 rows x 10 columns]"
      ]
     },
     "execution_count": 7,
     "metadata": {},
     "output_type": "execute_result"
    }
   ],
   "source": [
    "df.head()"
   ]
  },
  {
   "cell_type": "code",
   "execution_count": 12,
   "metadata": {
    "colab": {
     "base_uri": "https://localhost:8080/",
     "height": 626
    },
    "executionInfo": {
     "elapsed": 482,
     "status": "ok",
     "timestamp": 1638944639332,
     "user": {
      "displayName": "006_Berryl Bagas",
      "photoUrl": "https://lh3.googleusercontent.com/a-/AOh14GiDZMNEtuSWWuS-fsix3MeuvW88AemkkLEu8OFTyg=s64",
      "userId": "09798621404980976797"
     },
     "user_tz": -420
    },
    "id": "IjaU1eMIv1Qi",
    "outputId": "32e1fc68-1ae7-4a11-c9ea-7766d8dd3d63"
   },
   "outputs": [
    {
     "data": {
      "text/html": [
       "<div>\n",
       "<style scoped>\n",
       "    .dataframe tbody tr th:only-of-type {\n",
       "        vertical-align: middle;\n",
       "    }\n",
       "\n",
       "    .dataframe tbody tr th {\n",
       "        vertical-align: top;\n",
       "    }\n",
       "\n",
       "    .dataframe thead th {\n",
       "        text-align: right;\n",
       "    }\n",
       "</style>\n",
       "<table border=\"1\" class=\"dataframe\">\n",
       "  <thead>\n",
       "    <tr style=\"text-align: right;\">\n",
       "      <th></th>\n",
       "      <th>Clothing ID</th>\n",
       "      <th>Age</th>\n",
       "      <th>Title</th>\n",
       "      <th>Review Text</th>\n",
       "      <th>Rating</th>\n",
       "      <th>Recommended IND</th>\n",
       "      <th>Positive Feedback Count</th>\n",
       "      <th>Division Name_General</th>\n",
       "      <th>Division Name_General Petite</th>\n",
       "      <th>Division Name_Initmates</th>\n",
       "      <th>Division Name_noname</th>\n",
       "      <th>Department Name_Bottoms</th>\n",
       "      <th>Department Name_Dresses</th>\n",
       "      <th>Department Name_Intimate</th>\n",
       "      <th>Department Name_Jackets</th>\n",
       "      <th>Department Name_Tops</th>\n",
       "      <th>Department Name_Trend</th>\n",
       "      <th>Department Name_noname</th>\n",
       "      <th>Class Name_Blouses</th>\n",
       "      <th>Class Name_Casual bottoms</th>\n",
       "      <th>Class Name_Chemises</th>\n",
       "      <th>Class Name_Dresses</th>\n",
       "      <th>Class Name_Fine gauge</th>\n",
       "      <th>Class Name_Intimates</th>\n",
       "      <th>Class Name_Jackets</th>\n",
       "      <th>Class Name_Jeans</th>\n",
       "      <th>Class Name_Knits</th>\n",
       "      <th>Class Name_Layering</th>\n",
       "      <th>Class Name_Legwear</th>\n",
       "      <th>Class Name_Lounge</th>\n",
       "      <th>Class Name_Outerwear</th>\n",
       "      <th>Class Name_Pants</th>\n",
       "      <th>Class Name_Shorts</th>\n",
       "      <th>Class Name_Skirts</th>\n",
       "      <th>Class Name_Sleep</th>\n",
       "      <th>Class Name_Sweaters</th>\n",
       "      <th>Class Name_Swim</th>\n",
       "      <th>Class Name_Trend</th>\n",
       "      <th>Class Name_noname</th>\n",
       "    </tr>\n",
       "  </thead>\n",
       "  <tbody>\n",
       "    <tr>\n",
       "      <th>0</th>\n",
       "      <td>767</td>\n",
       "      <td>33</td>\n",
       "      <td>noname</td>\n",
       "      <td>Absolutely wonderful - silky and sexy and comf...</td>\n",
       "      <td>4</td>\n",
       "      <td>1</td>\n",
       "      <td>0</td>\n",
       "      <td>0</td>\n",
       "      <td>0</td>\n",
       "      <td>1</td>\n",
       "      <td>0</td>\n",
       "      <td>0</td>\n",
       "      <td>0</td>\n",
       "      <td>1</td>\n",
       "      <td>0</td>\n",
       "      <td>0</td>\n",
       "      <td>0</td>\n",
       "      <td>0</td>\n",
       "      <td>0</td>\n",
       "      <td>0</td>\n",
       "      <td>0</td>\n",
       "      <td>0</td>\n",
       "      <td>0</td>\n",
       "      <td>1</td>\n",
       "      <td>0</td>\n",
       "      <td>0</td>\n",
       "      <td>0</td>\n",
       "      <td>0</td>\n",
       "      <td>0</td>\n",
       "      <td>0</td>\n",
       "      <td>0</td>\n",
       "      <td>0</td>\n",
       "      <td>0</td>\n",
       "      <td>0</td>\n",
       "      <td>0</td>\n",
       "      <td>0</td>\n",
       "      <td>0</td>\n",
       "      <td>0</td>\n",
       "      <td>0</td>\n",
       "    </tr>\n",
       "    <tr>\n",
       "      <th>1</th>\n",
       "      <td>1080</td>\n",
       "      <td>34</td>\n",
       "      <td>noname</td>\n",
       "      <td>Love this dress!  it's sooo pretty.  i happene...</td>\n",
       "      <td>5</td>\n",
       "      <td>1</td>\n",
       "      <td>4</td>\n",
       "      <td>1</td>\n",
       "      <td>0</td>\n",
       "      <td>0</td>\n",
       "      <td>0</td>\n",
       "      <td>0</td>\n",
       "      <td>1</td>\n",
       "      <td>0</td>\n",
       "      <td>0</td>\n",
       "      <td>0</td>\n",
       "      <td>0</td>\n",
       "      <td>0</td>\n",
       "      <td>0</td>\n",
       "      <td>0</td>\n",
       "      <td>0</td>\n",
       "      <td>1</td>\n",
       "      <td>0</td>\n",
       "      <td>0</td>\n",
       "      <td>0</td>\n",
       "      <td>0</td>\n",
       "      <td>0</td>\n",
       "      <td>0</td>\n",
       "      <td>0</td>\n",
       "      <td>0</td>\n",
       "      <td>0</td>\n",
       "      <td>0</td>\n",
       "      <td>0</td>\n",
       "      <td>0</td>\n",
       "      <td>0</td>\n",
       "      <td>0</td>\n",
       "      <td>0</td>\n",
       "      <td>0</td>\n",
       "      <td>0</td>\n",
       "    </tr>\n",
       "    <tr>\n",
       "      <th>2</th>\n",
       "      <td>1077</td>\n",
       "      <td>60</td>\n",
       "      <td>Some major design flaws</td>\n",
       "      <td>I had such high hopes for this dress and reall...</td>\n",
       "      <td>3</td>\n",
       "      <td>0</td>\n",
       "      <td>0</td>\n",
       "      <td>1</td>\n",
       "      <td>0</td>\n",
       "      <td>0</td>\n",
       "      <td>0</td>\n",
       "      <td>0</td>\n",
       "      <td>1</td>\n",
       "      <td>0</td>\n",
       "      <td>0</td>\n",
       "      <td>0</td>\n",
       "      <td>0</td>\n",
       "      <td>0</td>\n",
       "      <td>0</td>\n",
       "      <td>0</td>\n",
       "      <td>0</td>\n",
       "      <td>1</td>\n",
       "      <td>0</td>\n",
       "      <td>0</td>\n",
       "      <td>0</td>\n",
       "      <td>0</td>\n",
       "      <td>0</td>\n",
       "      <td>0</td>\n",
       "      <td>0</td>\n",
       "      <td>0</td>\n",
       "      <td>0</td>\n",
       "      <td>0</td>\n",
       "      <td>0</td>\n",
       "      <td>0</td>\n",
       "      <td>0</td>\n",
       "      <td>0</td>\n",
       "      <td>0</td>\n",
       "      <td>0</td>\n",
       "      <td>0</td>\n",
       "    </tr>\n",
       "    <tr>\n",
       "      <th>3</th>\n",
       "      <td>1049</td>\n",
       "      <td>50</td>\n",
       "      <td>My favorite buy!</td>\n",
       "      <td>I love, love, love this jumpsuit. it's fun, fl...</td>\n",
       "      <td>5</td>\n",
       "      <td>1</td>\n",
       "      <td>0</td>\n",
       "      <td>0</td>\n",
       "      <td>1</td>\n",
       "      <td>0</td>\n",
       "      <td>0</td>\n",
       "      <td>1</td>\n",
       "      <td>0</td>\n",
       "      <td>0</td>\n",
       "      <td>0</td>\n",
       "      <td>0</td>\n",
       "      <td>0</td>\n",
       "      <td>0</td>\n",
       "      <td>0</td>\n",
       "      <td>0</td>\n",
       "      <td>0</td>\n",
       "      <td>0</td>\n",
       "      <td>0</td>\n",
       "      <td>0</td>\n",
       "      <td>0</td>\n",
       "      <td>0</td>\n",
       "      <td>0</td>\n",
       "      <td>0</td>\n",
       "      <td>0</td>\n",
       "      <td>0</td>\n",
       "      <td>0</td>\n",
       "      <td>1</td>\n",
       "      <td>0</td>\n",
       "      <td>0</td>\n",
       "      <td>0</td>\n",
       "      <td>0</td>\n",
       "      <td>0</td>\n",
       "      <td>0</td>\n",
       "      <td>0</td>\n",
       "    </tr>\n",
       "    <tr>\n",
       "      <th>4</th>\n",
       "      <td>847</td>\n",
       "      <td>47</td>\n",
       "      <td>Flattering shirt</td>\n",
       "      <td>This shirt is very flattering to all due to th...</td>\n",
       "      <td>5</td>\n",
       "      <td>1</td>\n",
       "      <td>6</td>\n",
       "      <td>1</td>\n",
       "      <td>0</td>\n",
       "      <td>0</td>\n",
       "      <td>0</td>\n",
       "      <td>0</td>\n",
       "      <td>0</td>\n",
       "      <td>0</td>\n",
       "      <td>0</td>\n",
       "      <td>1</td>\n",
       "      <td>0</td>\n",
       "      <td>0</td>\n",
       "      <td>1</td>\n",
       "      <td>0</td>\n",
       "      <td>0</td>\n",
       "      <td>0</td>\n",
       "      <td>0</td>\n",
       "      <td>0</td>\n",
       "      <td>0</td>\n",
       "      <td>0</td>\n",
       "      <td>0</td>\n",
       "      <td>0</td>\n",
       "      <td>0</td>\n",
       "      <td>0</td>\n",
       "      <td>0</td>\n",
       "      <td>0</td>\n",
       "      <td>0</td>\n",
       "      <td>0</td>\n",
       "      <td>0</td>\n",
       "      <td>0</td>\n",
       "      <td>0</td>\n",
       "      <td>0</td>\n",
       "      <td>0</td>\n",
       "    </tr>\n",
       "  </tbody>\n",
       "</table>\n",
       "</div>"
      ],
      "text/plain": [
       "  Clothing ID Age  ... Class Name_Trend Class Name_noname\n",
       "0         767  33  ...                0                 0\n",
       "1        1080  34  ...                0                 0\n",
       "2        1077  60  ...                0                 0\n",
       "3        1049  50  ...                0                 0\n",
       "4         847  47  ...                0                 0\n",
       "\n",
       "[5 rows x 39 columns]"
      ]
     },
     "execution_count": 12,
     "metadata": {},
     "output_type": "execute_result"
    }
   ],
   "source": [
    "def handling_preprocessing(data):\n",
    "\n",
    "  # (nominal)\n",
    "  data = pd.get_dummies(data, columns=['Division Name'])\n",
    "  data = pd.get_dummies(data, columns=['Department Name'])\n",
    "  data = pd.get_dummies(data, columns=['Class Name'])\n",
    "\n",
    "  return data\n",
    "df = handling_preprocessing(df)\n",
    "df.head()"
   ]
  },
  {
   "cell_type": "markdown",
   "metadata": {
    "id": "6IJPbVDvnH5p"
   },
   "source": [
    "# Train Test Split Data"
   ]
  },
  {
   "cell_type": "code",
   "execution_count": 13,
   "metadata": {
    "executionInfo": {
     "elapsed": 373,
     "status": "ok",
     "timestamp": 1638944643382,
     "user": {
      "displayName": "006_Berryl Bagas",
      "photoUrl": "https://lh3.googleusercontent.com/a-/AOh14GiDZMNEtuSWWuS-fsix3MeuvW88AemkkLEu8OFTyg=s64",
      "userId": "09798621404980976797"
     },
     "user_tz": -420
    },
    "id": "Wb6y2Vq7wwiT"
   },
   "outputs": [],
   "source": [
    "from sklearn.model_selection import train_test_split\n",
    "\n",
    "cols_X = ['Age','Positive Feedback Count','Division Name_General','Division Name_General Petite',\t'Division Name_Initmates',\t'Division Name_noname',\n",
    "          'Department Name_Bottoms',\t'Department Name_Dresses',\t'Department Name_Intimate',\t'Department Name_Jackets',\t'Department Name_Tops',\n",
    "          'Department Name_Trend',\t'Department Name_noname','Rating'] \n",
    "cols_Y = ['Recommended IND']\n",
    "\n",
    "X = df[cols_X]\n",
    "y = df[cols_Y]\n",
    "\n",
    "x_train, x_test, y_train, y_test =  train_test_split(X, y, test_size = 0.3, random_state = 123)"
   ]
  },
  {
   "cell_type": "markdown",
   "metadata": {
    "id": "8KwL7uuX8g5V"
   },
   "source": [
    "## Imbalance data"
   ]
  },
  {
   "cell_type": "code",
   "execution_count": null,
   "metadata": {
    "colab": {
     "base_uri": "https://localhost:8080/",
     "height": 301
    },
    "executionInfo": {
     "elapsed": 477,
     "status": "ok",
     "timestamp": 1638895207777,
     "user": {
      "displayName": "006_Berryl Bagas",
      "photoUrl": "https://lh3.googleusercontent.com/a-/AOh14GiDZMNEtuSWWuS-fsix3MeuvW88AemkkLEu8OFTyg=s64",
      "userId": "09798621404980976797"
     },
     "user_tz": -420
    },
    "id": "Ycbm5l_H8kDk",
    "outputId": "7bfcc107-032d-432d-ae54-308b5b0f7228"
   },
   "outputs": [
    {
     "data": {
      "image/png": "[encoded data removed]",
      "text/plain": [
       "<Figure size 432x288 with 1 Axes>"
      ]
     },
     "metadata": {},
     "output_type": "display_data"
    }
   ],
   "source": [
    "y_train.value_counts().plot(kind='bar')\n",
    "plt.xticks([0,1],['No','Yes'], rotation=0)\n",
    "plt.title('sum of Recomendation')\n",
    "sns.set_theme()"
   ]
  },
  {
   "cell_type": "code",
   "execution_count": 14,
   "metadata": {
    "executionInfo": {
     "elapsed": 969,
     "status": "ok",
     "timestamp": 1638944648430,
     "user": {
      "displayName": "006_Berryl Bagas",
      "photoUrl": "https://lh3.googleusercontent.com/a-/AOh14GiDZMNEtuSWWuS-fsix3MeuvW88AemkkLEu8OFTyg=s64",
      "userId": "09798621404980976797"
     },
     "user_tz": -420
    },
    "id": "2zW6pOiu8mAN"
   },
   "outputs": [],
   "source": [
    "from imblearn.over_sampling import SMOTE\n",
    "smote = SMOTE(sampling_strategy = 1)\n",
    "x_smote, y_smote = smote.fit_resample(x_train,y_train)"
   ]
  },
  {
   "cell_type": "code",
   "execution_count": null,
   "metadata": {
    "colab": {
     "base_uri": "https://localhost:8080/",
     "height": 301
    },
    "executionInfo": {
     "elapsed": 41,
     "status": "ok",
     "timestamp": 1638895214324,
     "user": {
      "displayName": "006_Berryl Bagas",
      "photoUrl": "https://lh3.googleusercontent.com/a-/AOh14GiDZMNEtuSWWuS-fsix3MeuvW88AemkkLEu8OFTyg=s64",
      "userId": "09798621404980976797"
     },
     "user_tz": -420
    },
    "id": "h0oItKkG8tdT",
    "outputId": "5d62417a-4fee-4d49-e414-d3fe5503d220"
   },
   "outputs": [
    {
     "data": {
      "image/png": "[encoded data removed]",
      "text/plain": [
       "<Figure size 432x288 with 1 Axes>"
      ]
     },
     "metadata": {},
     "output_type": "display_data"
    }
   ],
   "source": [
    "y_smote.value_counts().plot(kind='bar')\n",
    "plt.xticks([0,1],['No','Yes'], rotation=0)\n",
    "plt.title('sum of recomendation')\n",
    "sns.set_theme()"
   ]
  },
  {
   "cell_type": "markdown",
   "metadata": {
    "id": "T_Peo-6KnML4"
   },
   "source": [
    "# Data Modeling"
   ]
  },
  {
   "cell_type": "markdown",
   "metadata": {
    "id": "cxXsOcB5z0IF"
   },
   "source": [
    "## Model Train-Testing"
   ]
  },
  {
   "cell_type": "code",
   "execution_count": 15,
   "metadata": {
    "executionInfo": {
     "elapsed": 511,
     "status": "ok",
     "timestamp": 1638944654777,
     "user": {
      "displayName": "006_Berryl Bagas",
      "photoUrl": "https://lh3.googleusercontent.com/a-/AOh14GiDZMNEtuSWWuS-fsix3MeuvW88AemkkLEu8OFTyg=s64",
      "userId": "09798621404980976797"
     },
     "user_tz": -420
    },
    "id": "b06RLCQDw2_s"
   },
   "outputs": [],
   "source": [
    "from sklearn.linear_model import LogisticRegression, SGDClassifier\n",
    "from sklearn.svm import LinearSVC, SVC\n",
    "from sklearn.neighbors import KNeighborsClassifier, NearestCentroid\n",
    "from sklearn.ensemble import RandomForestClassifier, GradientBoostingClassifier, AdaBoostClassifier\n",
    "from sklearn.tree import DecisionTreeClassifier\n",
    "from xgboost import XGBClassifier\n",
    "from sklearn.neural_network import MLPClassifier\n",
    "\n",
    "from sklearn.metrics import precision_score,recall_score,f1_score,accuracy_score"
   ]
  },
  {
   "cell_type": "code",
   "execution_count": 16,
   "metadata": {
    "executionInfo": {
     "elapsed": 63233,
     "status": "ok",
     "timestamp": 1638944720498,
     "user": {
      "displayName": "006_Berryl Bagas",
      "photoUrl": "https://lh3.googleusercontent.com/a-/AOh14GiDZMNEtuSWWuS-fsix3MeuvW88AemkkLEu8OFTyg=s64",
      "userId": "09798621404980976797"
     },
     "user_tz": -420
    },
    "id": "LOzi6XhaxABf"
   },
   "outputs": [],
   "source": [
    "ad =  AdaBoostClassifier()\n",
    "ad.fit(x_smote,y_smote) \n",
    "y_jawaban = ad.predict(x_test)\n",
    "ad1 = precision_score(y_test,y_jawaban)\n",
    "ad2 = recall_score(y_test,y_jawaban)\n",
    "ad3 = f1_score(y_test,y_jawaban)\n",
    "ad4 = accuracy_score(y_test,y_jawaban)\n",
    "\n",
    "lr =  LogisticRegression()\n",
    "lr.fit(x_smote,y_smote) \n",
    "y_jawaban = lr.predict(x_test)\n",
    "lr1 = precision_score(y_test,y_jawaban)\n",
    "lr2 = recall_score(y_test,y_jawaban)\n",
    "lr3 = f1_score(y_test,y_jawaban)\n",
    "lr4 = accuracy_score(y_test,y_jawaban)\n",
    "\n",
    "sdg =  SGDClassifier()\n",
    "sdg.fit(x_smote,y_smote) \n",
    "y_jawaban = sdg.predict(x_test)\n",
    "sdg1 = precision_score(y_test,y_jawaban)\n",
    "sdg2 = recall_score(y_test,y_jawaban)\n",
    "sdg3 = f1_score(y_test,y_jawaban)\n",
    "sdg4 = accuracy_score(y_test,y_jawaban)\n",
    "\n",
    "lv =  LinearSVC()\n",
    "lv.fit(x_smote,y_smote) \n",
    "y_jawaban = lv.predict(x_test)\n",
    "lv1 = precision_score(y_test,y_jawaban)\n",
    "lv2 = recall_score(y_test,y_jawaban)\n",
    "lv3 = f1_score(y_test,y_jawaban)\n",
    "lv4 = accuracy_score(y_test,y_jawaban)\n",
    "\n",
    "sv =  SVC()\n",
    "sv.fit(x_smote,y_smote) \n",
    "y_jawaban = sv.predict(x_test)\n",
    "sv1 = precision_score(y_test,y_jawaban)\n",
    "sv2 = recall_score(y_test,y_jawaban)\n",
    "sv3 = f1_score(y_test,y_jawaban)\n",
    "sv4 = accuracy_score(y_test,y_jawaban)\n",
    "\n",
    "knn =  KNeighborsClassifier()\n",
    "knn.fit(x_smote,y_smote) \n",
    "y_jawaban = knn.predict(x_test)\n",
    "knn1 = precision_score(y_test,y_jawaban)\n",
    "knn2 = recall_score(y_test,y_jawaban)\n",
    "knn3 = f1_score(y_test,y_jawaban)\n",
    "knn4 = accuracy_score(y_test,y_jawaban)\n",
    "\n",
    "nc =  NearestCentroid()\n",
    "nc.fit(x_smote,y_smote) \n",
    "y_jawaban = nc.predict(x_test)\n",
    "nc1 = precision_score(y_test,y_jawaban)\n",
    "nc2 = recall_score(y_test,y_jawaban)\n",
    "nc3 = f1_score(y_test,y_jawaban)\n",
    "nc4 = accuracy_score(y_test,y_jawaban)\n",
    "\n",
    "rf =  RandomForestClassifier()\n",
    "rf.fit(x_smote,y_smote) \n",
    "y_jawaban = rf.predict(x_test)\n",
    "rf1 = precision_score(y_test,y_jawaban)\n",
    "rf2 = recall_score(y_test,y_jawaban)\n",
    "rf3 = f1_score(y_test,y_jawaban)\n",
    "rf4 = accuracy_score(y_test,y_jawaban)\n",
    "\n",
    "gb =  GradientBoostingClassifier()\n",
    "gb.fit(x_smote,y_smote) \n",
    "y_jawaban = gb.predict(x_test)\n",
    "gb1 = precision_score(y_test,y_jawaban)\n",
    "gb2 = recall_score(y_test,y_jawaban)\n",
    "gb3 = f1_score(y_test,y_jawaban)\n",
    "gb4 = accuracy_score(y_test,y_jawaban)\n",
    "\n",
    "dt =  DecisionTreeClassifier()\n",
    "dt.fit(x_smote,y_smote) \n",
    "y_jawaban = dt.predict(x_test)\n",
    "dt1 = precision_score(y_test,y_jawaban)\n",
    "dt2 = recall_score(y_test,y_jawaban)\n",
    "dt3 = f1_score(y_test,y_jawaban)\n",
    "dt4 = accuracy_score(y_test,y_jawaban)\n",
    "\n",
    "ml =  MLPClassifier()\n",
    "ml.fit(x_smote,y_smote) \n",
    "y_jawaban = ml.predict(x_test)\n",
    "ml1 = precision_score(y_test,y_jawaban)\n",
    "ml2 = recall_score(y_test,y_jawaban)\n",
    "ml3 = f1_score(y_test,y_jawaban)\n",
    "ml4 = accuracy_score(y_test,y_jawaban)"
   ]
  },
  {
   "cell_type": "code",
   "execution_count": 17,
   "metadata": {
    "colab": {
     "base_uri": "https://localhost:8080/",
     "height": 395
    },
    "executionInfo": {
     "elapsed": 456,
     "status": "ok",
     "timestamp": 1638944724931,
     "user": {
      "displayName": "006_Berryl Bagas",
      "photoUrl": "https://lh3.googleusercontent.com/a-/AOh14GiDZMNEtuSWWuS-fsix3MeuvW88AemkkLEu8OFTyg=s64",
      "userId": "09798621404980976797"
     },
     "user_tz": -420
    },
    "id": "w-WaVJ_OxDzc",
    "outputId": "1ff6d0f0-861a-4795-e394-211db4daf61b"
   },
   "outputs": [
    {
     "data": {
      "text/html": [
       "<div>\n",
       "<style scoped>\n",
       "    .dataframe tbody tr th:only-of-type {\n",
       "        vertical-align: middle;\n",
       "    }\n",
       "\n",
       "    .dataframe tbody tr th {\n",
       "        vertical-align: top;\n",
       "    }\n",
       "\n",
       "    .dataframe thead th {\n",
       "        text-align: right;\n",
       "    }\n",
       "</style>\n",
       "<table border=\"1\" class=\"dataframe\">\n",
       "  <thead>\n",
       "    <tr style=\"text-align: right;\">\n",
       "      <th></th>\n",
       "      <th>Model</th>\n",
       "      <th>Precision</th>\n",
       "      <th>Recall</th>\n",
       "      <th>F1</th>\n",
       "      <th>Accuracy</th>\n",
       "    </tr>\n",
       "  </thead>\n",
       "  <tbody>\n",
       "    <tr>\n",
       "      <th>7</th>\n",
       "      <td>GradientBoostingClassifier</td>\n",
       "      <td>0.988102</td>\n",
       "      <td>0.937885</td>\n",
       "      <td>0.962339</td>\n",
       "      <td>0.939114</td>\n",
       "    </tr>\n",
       "    <tr>\n",
       "      <th>8</th>\n",
       "      <td>AdaBoostClassifier</td>\n",
       "      <td>0.988100</td>\n",
       "      <td>0.937714</td>\n",
       "      <td>0.962248</td>\n",
       "      <td>0.938972</td>\n",
       "    </tr>\n",
       "    <tr>\n",
       "      <th>10</th>\n",
       "      <td>MLPClassifier</td>\n",
       "      <td>0.985463</td>\n",
       "      <td>0.939596</td>\n",
       "      <td>0.961983</td>\n",
       "      <td>0.938405</td>\n",
       "    </tr>\n",
       "    <tr>\n",
       "      <th>2</th>\n",
       "      <td>LinearSVC</td>\n",
       "      <td>0.981435</td>\n",
       "      <td>0.940794</td>\n",
       "      <td>0.960685</td>\n",
       "      <td>0.936134</td>\n",
       "    </tr>\n",
       "    <tr>\n",
       "      <th>6</th>\n",
       "      <td>RandomForestClassifier</td>\n",
       "      <td>0.970903</td>\n",
       "      <td>0.947810</td>\n",
       "      <td>0.959217</td>\n",
       "      <td>0.933154</td>\n",
       "    </tr>\n",
       "    <tr>\n",
       "      <th>9</th>\n",
       "      <td>DecisionTreeClassifier</td>\n",
       "      <td>0.969420</td>\n",
       "      <td>0.943874</td>\n",
       "      <td>0.956477</td>\n",
       "      <td>0.928754</td>\n",
       "    </tr>\n",
       "    <tr>\n",
       "      <th>4</th>\n",
       "      <td>KNeighborsClassifier</td>\n",
       "      <td>0.970869</td>\n",
       "      <td>0.940965</td>\n",
       "      <td>0.955683</td>\n",
       "      <td>0.927619</td>\n",
       "    </tr>\n",
       "    <tr>\n",
       "      <th>1</th>\n",
       "      <td>SGDClassifier</td>\n",
       "      <td>0.829407</td>\n",
       "      <td>1.000000</td>\n",
       "      <td>0.906749</td>\n",
       "      <td>0.829407</td>\n",
       "    </tr>\n",
       "    <tr>\n",
       "      <th>3</th>\n",
       "      <td>SVC</td>\n",
       "      <td>0.829407</td>\n",
       "      <td>1.000000</td>\n",
       "      <td>0.906749</td>\n",
       "      <td>0.829407</td>\n",
       "    </tr>\n",
       "    <tr>\n",
       "      <th>5</th>\n",
       "      <td>NearestCentroid</td>\n",
       "      <td>0.829407</td>\n",
       "      <td>1.000000</td>\n",
       "      <td>0.906749</td>\n",
       "      <td>0.829407</td>\n",
       "    </tr>\n",
       "    <tr>\n",
       "      <th>0</th>\n",
       "      <td>LogisticRegression</td>\n",
       "      <td>0.000000</td>\n",
       "      <td>0.000000</td>\n",
       "      <td>0.000000</td>\n",
       "      <td>0.170593</td>\n",
       "    </tr>\n",
       "  </tbody>\n",
       "</table>\n",
       "</div>"
      ],
      "text/plain": [
       "                         Model  Precision    Recall        F1  Accuracy\n",
       "7   GradientBoostingClassifier   0.988102  0.937885  0.962339  0.939114\n",
       "8           AdaBoostClassifier   0.988100  0.937714  0.962248  0.938972\n",
       "10               MLPClassifier   0.985463  0.939596  0.961983  0.938405\n",
       "2                    LinearSVC   0.981435  0.940794  0.960685  0.936134\n",
       "6       RandomForestClassifier   0.970903  0.947810  0.959217  0.933154\n",
       "9       DecisionTreeClassifier   0.969420  0.943874  0.956477  0.928754\n",
       "4         KNeighborsClassifier   0.970869  0.940965  0.955683  0.927619\n",
       "1                SGDClassifier   0.829407  1.000000  0.906749  0.829407\n",
       "3                          SVC   0.829407  1.000000  0.906749  0.829407\n",
       "5              NearestCentroid   0.829407  1.000000  0.906749  0.829407\n",
       "0           LogisticRegression   0.000000  0.000000  0.000000  0.170593"
      ]
     },
     "execution_count": 17,
     "metadata": {},
     "output_type": "execute_result"
    }
   ],
   "source": [
    "dic = {'Model':['LogisticRegression','SGDClassifier','LinearSVC','SVC','KNeighborsClassifier','NearestCentroid','RandomForestClassifier',\n",
    "                'GradientBoostingClassifier','AdaBoostClassifier','DecisionTreeClassifier','MLPClassifier'],\n",
    "       'Precision':[lr1,sdg1,lv1,sv1,knn1,nc1,rf1,gb1,ad1,dt1,ml1],\n",
    "       'Recall':[lr2,sdg2,lv2,sv2,knn2,nc2,rf2,gb2,ad2,dt2,ml2],\n",
    "       'F1':[lr3,sdg3,lv3,sv3,knn3,nc3,rf3,gb3,ad3,dt3,ml3],\n",
    "       'Accuracy':[lr4,sdg4,lv4,sv4,knn4,nc4,rf4,gb4,ad4,dt4,ml4]}\n",
    "compare = pd.DataFrame(dic)\n",
    "compare.sort_values(by='Accuracy',ascending=False)"
   ]
  },
  {
   "cell_type": "markdown",
   "metadata": {
    "id": "3DXWgRvnz94G"
   },
   "source": [
    "Model awal yang memiliki accuracy paling tinggi yaitu:\n",
    " \n",
    "\n",
    "*   AdaBoostClassifier\t\n",
    "*   GradientBoostingClassifier"
   ]
  },
  {
   "cell_type": "markdown",
   "metadata": {
    "id": "y4UMEZDXnS35"
   },
   "source": [
    "# Tuning Hyperparameter"
   ]
  },
  {
   "cell_type": "markdown",
   "metadata": {
    "id": "izSMvuA34vGo"
   },
   "source": [
    "Selajutnya saya akan memilih 2 model awal dengan nilai Accuracy tertinggi (LogisticRegression dan GradientBoostingClassifier) untuk dilakukannya Tuning Hyperparameter "
   ]
  },
  {
   "cell_type": "markdown",
   "metadata": {
    "id": "VATkYdk62Mrq"
   },
   "source": [
    "## Model Tuning Train-Test"
   ]
  },
  {
   "cell_type": "code",
   "execution_count": 31,
   "metadata": {
    "colab": {
     "base_uri": "https://localhost:8080/",
     "height": 175
    },
    "executionInfo": {
     "elapsed": 35694,
     "status": "ok",
     "timestamp": 1638945702172,
     "user": {
      "displayName": "006_Berryl Bagas",
      "photoUrl": "https://lh3.googleusercontent.com/a-/AOh14GiDZMNEtuSWWuS-fsix3MeuvW88AemkkLEu8OFTyg=s64",
      "userId": "09798621404980976797"
     },
     "user_tz": -420
    },
    "id": "epWL8nQE2Q-p",
    "outputId": "d17aaa94-afcd-4eac-fef2-0554500aa301"
   },
   "outputs": [
    {
     "data": {
      "text/html": [
       "<div>\n",
       "<style scoped>\n",
       "    .dataframe tbody tr th:only-of-type {\n",
       "        vertical-align: middle;\n",
       "    }\n",
       "\n",
       "    .dataframe tbody tr th {\n",
       "        vertical-align: top;\n",
       "    }\n",
       "\n",
       "    .dataframe thead th {\n",
       "        text-align: right;\n",
       "    }\n",
       "</style>\n",
       "<table border=\"1\" class=\"dataframe\">\n",
       "  <thead>\n",
       "    <tr style=\"text-align: right;\">\n",
       "      <th></th>\n",
       "      <th>Model</th>\n",
       "      <th>Precision</th>\n",
       "      <th>Recall</th>\n",
       "      <th>F1</th>\n",
       "      <th>Accuracy</th>\n",
       "    </tr>\n",
       "  </thead>\n",
       "  <tbody>\n",
       "    <tr>\n",
       "      <th>0</th>\n",
       "      <td>AdaBoostClassifier</td>\n",
       "      <td>0.988100</td>\n",
       "      <td>0.937714</td>\n",
       "      <td>0.962248</td>\n",
       "      <td>0.938972</td>\n",
       "    </tr>\n",
       "    <tr>\n",
       "      <th>1</th>\n",
       "      <td>Tuning AdaBoostClassifier</td>\n",
       "      <td>0.988100</td>\n",
       "      <td>0.937714</td>\n",
       "      <td>0.962248</td>\n",
       "      <td>0.938972</td>\n",
       "    </tr>\n",
       "    <tr>\n",
       "      <th>2</th>\n",
       "      <td>GradientBoostingClassifier</td>\n",
       "      <td>0.988102</td>\n",
       "      <td>0.937885</td>\n",
       "      <td>0.962339</td>\n",
       "      <td>0.939114</td>\n",
       "    </tr>\n",
       "    <tr>\n",
       "      <th>3</th>\n",
       "      <td>Tuning GradientBoostingClassifier</td>\n",
       "      <td>0.981792</td>\n",
       "      <td>0.941136</td>\n",
       "      <td>0.961034</td>\n",
       "      <td>0.936702</td>\n",
       "    </tr>\n",
       "  </tbody>\n",
       "</table>\n",
       "</div>"
      ],
      "text/plain": [
       "                               Model  Precision    Recall        F1  Accuracy\n",
       "0                 AdaBoostClassifier   0.988100  0.937714  0.962248  0.938972\n",
       "1          Tuning AdaBoostClassifier   0.988100  0.937714  0.962248  0.938972\n",
       "2         GradientBoostingClassifier   0.988102  0.937885  0.962339  0.939114\n",
       "3  Tuning GradientBoostingClassifier   0.981792  0.941136  0.961034  0.936702"
      ]
     },
     "execution_count": 31,
     "metadata": {},
     "output_type": "execute_result"
    }
   ],
   "source": [
    "ad =  AdaBoostClassifier()\n",
    "ad.fit(x_smote,y_smote) \n",
    "y_jawaban = ad.predict(x_test)\n",
    "ad1 = precision_score(y_test,y_jawaban)\n",
    "ad2 = recall_score(y_test,y_jawaban)\n",
    "ad3 = f1_score(y_test,y_jawaban)\n",
    "ad4 = accuracy_score(y_test,y_jawaban)\n",
    "\n",
    "gridad =  AdaBoostClassifier(n_estimators=1000,learning_rate=0.1)\n",
    "gridad.fit(x_smote,y_smote) \n",
    "y_jawaban = gridad.predict(x_test)\n",
    "gridad1 = precision_score(y_test,y_jawaban)\n",
    "gridad2 = recall_score(y_test,y_jawaban)\n",
    "gridad3 = f1_score(y_test,y_jawaban)\n",
    "gridad4 = accuracy_score(y_test,y_jawaban)\n",
    "\n",
    "gb =  GradientBoostingClassifier()\n",
    "gb.fit(x_smote,y_smote) \n",
    "y_jawaban = gb.predict(x_test)\n",
    "gb1 = precision_score(y_test,y_jawaban)\n",
    "gb2 = recall_score(y_test,y_jawaban)\n",
    "gb3 = f1_score(y_test,y_jawaban)\n",
    "gb4 = accuracy_score(y_test,y_jawaban)\n",
    "\n",
    "gridgb =  GradientBoostingClassifier(n_estimators=1000,learning_rate=0.1)\n",
    "gridgb.fit(x_smote,y_smote) \n",
    "y_jawaban = gridgb.predict(x_test)\n",
    "gridgb1 = precision_score(y_test,y_jawaban)\n",
    "gridgb2 = recall_score(y_test,y_jawaban)\n",
    "gridgb3 = f1_score(y_test,y_jawaban)\n",
    "gridgb4 = accuracy_score(y_test,y_jawaban)\n",
    "\n",
    "\n",
    "dic = {'Model':['AdaBoostClassifier','Tuning AdaBoostClassifier','GradientBoostingClassifier','Tuning GradientBoostingClassifier'],\n",
    "       'Precision':[ad1,gridad1,gb1,gridgb1],\n",
    "       'Recall':[ad2,gridad2,gb2,gridgb2],\n",
    "       'F1':[ad3,gridad3,gb3,gridgb3],\n",
    "       'Accuracy':[ad4,gridad4,gb4,gridgb4]}\n",
    "compare = pd.DataFrame(dic)\n",
    "compare"
   ]
  },
  {
   "cell_type": "markdown",
   "metadata": {
    "id": "xVbBc8mz__0H"
   },
   "source": [
    "Model tanpa tuning cendrung lebih baik karena memberikan akurasi yang lebih besar"
   ]
  },
  {
   "cell_type": "markdown",
   "metadata": {
    "id": "GVWHJ_A6nXKf"
   },
   "source": [
    "# Model Evaluation"
   ]
  },
  {
   "cell_type": "code",
   "execution_count": 19,
   "metadata": {
    "colab": {
     "base_uri": "https://localhost:8080/",
     "height": 175
    },
    "executionInfo": {
     "elapsed": 5734,
     "status": "ok",
     "timestamp": 1638944807142,
     "user": {
      "displayName": "006_Berryl Bagas",
      "photoUrl": "https://lh3.googleusercontent.com/a-/AOh14GiDZMNEtuSWWuS-fsix3MeuvW88AemkkLEu8OFTyg=s64",
      "userId": "09798621404980976797"
     },
     "user_tz": -420
    },
    "id": "-aURQ7PK3PeC",
    "outputId": "f9363aa7-94a6-47d1-e1fe-abdcbdfa5e80"
   },
   "outputs": [
    {
     "data": {
      "text/html": [
       "<div>\n",
       "<style scoped>\n",
       "    .dataframe tbody tr th:only-of-type {\n",
       "        vertical-align: middle;\n",
       "    }\n",
       "\n",
       "    .dataframe tbody tr th {\n",
       "        vertical-align: top;\n",
       "    }\n",
       "\n",
       "    .dataframe thead th {\n",
       "        text-align: right;\n",
       "    }\n",
       "</style>\n",
       "<table border=\"1\" class=\"dataframe\">\n",
       "  <thead>\n",
       "    <tr style=\"text-align: right;\">\n",
       "      <th></th>\n",
       "      <th>Model</th>\n",
       "      <th>Data</th>\n",
       "      <th>Precision</th>\n",
       "      <th>Recall</th>\n",
       "      <th>F1</th>\n",
       "      <th>Accuracy</th>\n",
       "    </tr>\n",
       "  </thead>\n",
       "  <tbody>\n",
       "    <tr>\n",
       "      <th>0</th>\n",
       "      <td>AdaBoostClassifier</td>\n",
       "      <td>Testing</td>\n",
       "      <td>0.988100</td>\n",
       "      <td>0.937714</td>\n",
       "      <td>0.962248</td>\n",
       "      <td>0.938972</td>\n",
       "    </tr>\n",
       "    <tr>\n",
       "      <th>1</th>\n",
       "      <td>AdaBoostClassifier</td>\n",
       "      <td>Training</td>\n",
       "      <td>0.989970</td>\n",
       "      <td>0.930586</td>\n",
       "      <td>0.959360</td>\n",
       "      <td>0.935401</td>\n",
       "    </tr>\n",
       "    <tr>\n",
       "      <th>2</th>\n",
       "      <td>GradientBoostingClassifier</td>\n",
       "      <td>Testing</td>\n",
       "      <td>0.988102</td>\n",
       "      <td>0.937885</td>\n",
       "      <td>0.962339</td>\n",
       "      <td>0.939114</td>\n",
       "    </tr>\n",
       "    <tr>\n",
       "      <th>3</th>\n",
       "      <td>GradientBoostingClassifier</td>\n",
       "      <td>Training</td>\n",
       "      <td>0.989897</td>\n",
       "      <td>0.931106</td>\n",
       "      <td>0.959602</td>\n",
       "      <td>0.935766</td>\n",
       "    </tr>\n",
       "  </tbody>\n",
       "</table>\n",
       "</div>"
      ],
      "text/plain": [
       "                        Model      Data  ...        F1  Accuracy\n",
       "0          AdaBoostClassifier   Testing  ...  0.962248  0.938972\n",
       "1          AdaBoostClassifier  Training  ...  0.959360  0.935401\n",
       "2  GradientBoostingClassifier   Testing  ...  0.962339  0.939114\n",
       "3  GradientBoostingClassifier  Training  ...  0.959602  0.935766\n",
       "\n",
       "[4 rows x 6 columns]"
      ]
     },
     "execution_count": 19,
     "metadata": {},
     "output_type": "execute_result"
    }
   ],
   "source": [
    "ad =  AdaBoostClassifier()\n",
    "ad.fit(x_smote,y_smote) \n",
    "y_jawaban = ad.predict(x_test)\n",
    "ad1 = precision_score(y_test,y_jawaban)\n",
    "ad2 = recall_score(y_test,y_jawaban)\n",
    "ad3 = f1_score(y_test,y_jawaban)\n",
    "ad4 = accuracy_score(y_test,y_jawaban)\n",
    "\n",
    "gridad =  AdaBoostClassifier()\n",
    "gridad.fit(x_smote,y_smote) \n",
    "y_jawaban = gridad.predict(x_train)\n",
    "gridad1 = precision_score(y_train,y_jawaban)\n",
    "gridad2 = recall_score(y_train,y_jawaban)\n",
    "gridad3 = f1_score(y_train,y_jawaban)\n",
    "gridad4 = accuracy_score(y_train,y_jawaban)\n",
    "\n",
    "gb =  GradientBoostingClassifier()\n",
    "gb.fit(x_smote,y_smote) \n",
    "y_jawaban = gb.predict(x_test)\n",
    "gb1 = precision_score(y_test,y_jawaban)\n",
    "gb2 = recall_score(y_test,y_jawaban)\n",
    "gb3 = f1_score(y_test,y_jawaban)\n",
    "gb4 = accuracy_score(y_test,y_jawaban)\n",
    "\n",
    "gridgb =  GradientBoostingClassifier()\n",
    "gridgb.fit(x_smote,y_smote) \n",
    "y_jawaban = gridgb.predict(x_train)\n",
    "gridgb1 = precision_score(y_train,y_jawaban)\n",
    "gridgb2 = recall_score(y_train,y_jawaban)\n",
    "gridgb3 = f1_score(y_train,y_jawaban)\n",
    "gridgb4 = accuracy_score(y_train,y_jawaban)\n",
    "\n",
    "\n",
    "dic = {'Model':['AdaBoostClassifier','AdaBoostClassifier','GradientBoostingClassifier','GradientBoostingClassifier'],\n",
    "       'Data':['Testing','Training','Testing','Training'],\n",
    "       'Precision':[ad1,gridad1,gb1,gridgb1],\n",
    "       'Recall':[ad2,gridad2,gb2,gridgb2],\n",
    "       'F1':[ad3,gridad3,gb3,gridgb3],\n",
    "       'Accuracy':[ad4,gridad4,gb4,gridgb4]}\n",
    "compare = pd.DataFrame(dic)\n",
    "compare"
   ]
  },
  {
   "cell_type": "markdown",
   "metadata": {
    "id": "oOgQYG-Q3hln"
   },
   "source": [
    "Kedua model tersebut tidak memberikan selisih yang besar antara data test dan train"
   ]
  },
  {
   "cell_type": "markdown",
   "metadata": {
    "id": "QaS97zsX7Tng"
   },
   "source": [
    "# Predict Data"
   ]
  },
  {
   "cell_type": "markdown",
   "metadata": {
    "id": "K1jWGV_XD-zr"
   },
   "source": [
    "## Predict using GraidentBoostingClassifier"
   ]
  },
  {
   "cell_type": "code",
   "execution_count": 20,
   "metadata": {
    "colab": {
     "base_uri": "https://localhost:8080/",
     "height": 265
    },
    "executionInfo": {
     "elapsed": 2489,
     "status": "ok",
     "timestamp": 1638945015085,
     "user": {
      "displayName": "006_Berryl Bagas",
      "photoUrl": "https://lh3.googleusercontent.com/a-/AOh14GiDZMNEtuSWWuS-fsix3MeuvW88AemkkLEu8OFTyg=s64",
      "userId": "09798621404980976797"
     },
     "user_tz": -420
    },
    "id": "jAecKIKzEDy0",
    "outputId": "8246b197-4f65-4059-ab1d-9745c8723823"
   },
   "outputs": [
    {
     "data": {
      "image/png": "[encoded data removed]",
      "text/plain": [
       "<Figure size 432x288 with 1 Axes>"
      ]
     },
     "metadata": {
      "needs_background": "light"
     },
     "output_type": "display_data"
    }
   ],
   "source": [
    "gb =  GradientBoostingClassifier()\n",
    "gb.fit(x_smote,y_smote) \n",
    "y_jawaban = gb.predict(x_test.head(20))\n",
    "x_ax = range(len(x_test.head(20)))\n",
    "plt.scatter(x_ax, y_test.head(20), s=5, color=\"blue\", label=\"Nilai_Aktual\")\n",
    "plt.plot(x_ax, y_jawaban, lw=0.8, color=\"red\", label=\"Nilai_Prediksi)\")\n",
    "plt.legend()\n",
    "plt.show()"
   ]
  },
  {
   "cell_type": "code",
   "execution_count": 21,
   "metadata": {
    "colab": {
     "base_uri": "https://localhost:8080/",
     "height": 676
    },
    "executionInfo": {
     "elapsed": 1097,
     "status": "ok",
     "timestamp": 1638945021460,
     "user": {
      "displayName": "006_Berryl Bagas",
      "photoUrl": "https://lh3.googleusercontent.com/a-/AOh14GiDZMNEtuSWWuS-fsix3MeuvW88AemkkLEu8OFTyg=s64",
      "userId": "09798621404980976797"
     },
     "user_tz": -420
    },
    "id": "uVXMz7V4u3w0",
    "outputId": "ab1a5871-4672-44f5-dea3-a397e52fe67b"
   },
   "outputs": [
    {
     "data": {
      "text/html": [
       "<div>\n",
       "<style scoped>\n",
       "    .dataframe tbody tr th:only-of-type {\n",
       "        vertical-align: middle;\n",
       "    }\n",
       "\n",
       "    .dataframe tbody tr th {\n",
       "        vertical-align: top;\n",
       "    }\n",
       "\n",
       "    .dataframe thead th {\n",
       "        text-align: right;\n",
       "    }\n",
       "</style>\n",
       "<table border=\"1\" class=\"dataframe\">\n",
       "  <thead>\n",
       "    <tr style=\"text-align: right;\">\n",
       "      <th></th>\n",
       "      <th>Recommended IND</th>\n",
       "      <th>Nilai_Prediksi</th>\n",
       "    </tr>\n",
       "  </thead>\n",
       "  <tbody>\n",
       "    <tr>\n",
       "      <th>0</th>\n",
       "      <td>1</td>\n",
       "      <td>1</td>\n",
       "    </tr>\n",
       "    <tr>\n",
       "      <th>1</th>\n",
       "      <td>1</td>\n",
       "      <td>1</td>\n",
       "    </tr>\n",
       "    <tr>\n",
       "      <th>2</th>\n",
       "      <td>1</td>\n",
       "      <td>1</td>\n",
       "    </tr>\n",
       "    <tr>\n",
       "      <th>3</th>\n",
       "      <td>1</td>\n",
       "      <td>1</td>\n",
       "    </tr>\n",
       "    <tr>\n",
       "      <th>4</th>\n",
       "      <td>1</td>\n",
       "      <td>1</td>\n",
       "    </tr>\n",
       "    <tr>\n",
       "      <th>5</th>\n",
       "      <td>0</td>\n",
       "      <td>0</td>\n",
       "    </tr>\n",
       "    <tr>\n",
       "      <th>6</th>\n",
       "      <td>1</td>\n",
       "      <td>1</td>\n",
       "    </tr>\n",
       "    <tr>\n",
       "      <th>7</th>\n",
       "      <td>1</td>\n",
       "      <td>1</td>\n",
       "    </tr>\n",
       "    <tr>\n",
       "      <th>8</th>\n",
       "      <td>1</td>\n",
       "      <td>1</td>\n",
       "    </tr>\n",
       "    <tr>\n",
       "      <th>9</th>\n",
       "      <td>1</td>\n",
       "      <td>1</td>\n",
       "    </tr>\n",
       "    <tr>\n",
       "      <th>10</th>\n",
       "      <td>0</td>\n",
       "      <td>0</td>\n",
       "    </tr>\n",
       "    <tr>\n",
       "      <th>11</th>\n",
       "      <td>1</td>\n",
       "      <td>1</td>\n",
       "    </tr>\n",
       "    <tr>\n",
       "      <th>12</th>\n",
       "      <td>1</td>\n",
       "      <td>1</td>\n",
       "    </tr>\n",
       "    <tr>\n",
       "      <th>13</th>\n",
       "      <td>1</td>\n",
       "      <td>1</td>\n",
       "    </tr>\n",
       "    <tr>\n",
       "      <th>14</th>\n",
       "      <td>1</td>\n",
       "      <td>1</td>\n",
       "    </tr>\n",
       "    <tr>\n",
       "      <th>15</th>\n",
       "      <td>1</td>\n",
       "      <td>1</td>\n",
       "    </tr>\n",
       "    <tr>\n",
       "      <th>16</th>\n",
       "      <td>1</td>\n",
       "      <td>1</td>\n",
       "    </tr>\n",
       "    <tr>\n",
       "      <th>17</th>\n",
       "      <td>1</td>\n",
       "      <td>1</td>\n",
       "    </tr>\n",
       "    <tr>\n",
       "      <th>18</th>\n",
       "      <td>1</td>\n",
       "      <td>1</td>\n",
       "    </tr>\n",
       "    <tr>\n",
       "      <th>19</th>\n",
       "      <td>0</td>\n",
       "      <td>0</td>\n",
       "    </tr>\n",
       "  </tbody>\n",
       "</table>\n",
       "</div>"
      ],
      "text/plain": [
       "   Recommended IND  Nilai_Prediksi\n",
       "0                1               1\n",
       "1                1               1\n",
       "2                1               1\n",
       "3                1               1\n",
       "4                1               1\n",
       "5                0               0\n",
       "6                1               1\n",
       "7                1               1\n",
       "8                1               1\n",
       "9                1               1\n",
       "10               0               0\n",
       "11               1               1\n",
       "12               1               1\n",
       "13               1               1\n",
       "14               1               1\n",
       "15               1               1\n",
       "16               1               1\n",
       "17               1               1\n",
       "18               1               1\n",
       "19               0               0"
      ]
     },
     "execution_count": 21,
     "metadata": {},
     "output_type": "execute_result"
    }
   ],
   "source": [
    "b = y_test.head(20).reset_index()\n",
    "b.drop('index',axis=1,inplace=True)\n",
    "b= b.rename(columns={'Recommended IDN':'Nilai_Aktual'})\n",
    "c = pd.DataFrame(y_jawaban)\n",
    "c= c.rename(columns={0:'Nilai_Prediksi'})\n",
    "predict = [b,c]\n",
    "predict = pd.concat(predict,axis=1,join='inner')\n",
    "predict"
   ]
  },
  {
   "cell_type": "markdown",
   "metadata": {
    "id": "sZHqh6LJyDW5"
   },
   "source": [
    "Model GradientBoostingClassifier mampu memprediksi benar 100% untuk 20 data pertama."
   ]
  },
  {
   "cell_type": "markdown",
   "metadata": {
    "id": "lpwavO59DzYt"
   },
   "source": [
    "## Predict using AdaBoostClassifier"
   ]
  },
  {
   "cell_type": "code",
   "execution_count": 23,
   "metadata": {
    "colab": {
     "base_uri": "https://localhost:8080/",
     "height": 265
    },
    "executionInfo": {
     "elapsed": 1078,
     "status": "ok",
     "timestamp": 1638945052325,
     "user": {
      "displayName": "006_Berryl Bagas",
      "photoUrl": "https://lh3.googleusercontent.com/a-/AOh14GiDZMNEtuSWWuS-fsix3MeuvW88AemkkLEu8OFTyg=s64",
      "userId": "09798621404980976797"
     },
     "user_tz": -420
    },
    "id": "LjdNbuom7YbB",
    "outputId": "c0e5b8cf-cba6-478d-f6c6-4fdf1cd5ccb1"
   },
   "outputs": [
    {
     "data": {
      "image/png": "[encoded data removed]",
      "text/plain": [
       "<Figure size 432x288 with 1 Axes>"
      ]
     },
     "metadata": {
      "needs_background": "light"
     },
     "output_type": "display_data"
    }
   ],
   "source": [
    "ad =  AdaBoostClassifier()\n",
    "ad.fit(x_smote,y_smote) \n",
    "y_jawaban = ad.predict(x_test.head(20))\n",
    "x_ax = range(len(x_test.head(20)))\n",
    "plt.scatter(x_ax, y_test.head(20), s=5, color=\"blue\", label=\"Nilai_Aktual\")\n",
    "plt.plot(x_ax, y_jawaban, lw=0.8, color=\"red\", label=\"Nilai_Prediksi)\")\n",
    "plt.legend()\n",
    "plt.show()"
   ]
  },
  {
   "cell_type": "code",
   "execution_count": 24,
   "metadata": {
    "colab": {
     "base_uri": "https://localhost:8080/",
     "height": 676
    },
    "executionInfo": {
     "elapsed": 415,
     "status": "ok",
     "timestamp": 1638945071942,
     "user": {
      "displayName": "006_Berryl Bagas",
      "photoUrl": "https://lh3.googleusercontent.com/a-/AOh14GiDZMNEtuSWWuS-fsix3MeuvW88AemkkLEu8OFTyg=s64",
      "userId": "09798621404980976797"
     },
     "user_tz": -420
    },
    "id": "1pR8qq977nAj",
    "outputId": "1512a32e-6308-4ae8-ef7e-5fa2acf9374f"
   },
   "outputs": [
    {
     "data": {
      "text/html": [
       "<div>\n",
       "<style scoped>\n",
       "    .dataframe tbody tr th:only-of-type {\n",
       "        vertical-align: middle;\n",
       "    }\n",
       "\n",
       "    .dataframe tbody tr th {\n",
       "        vertical-align: top;\n",
       "    }\n",
       "\n",
       "    .dataframe thead th {\n",
       "        text-align: right;\n",
       "    }\n",
       "</style>\n",
       "<table border=\"1\" class=\"dataframe\">\n",
       "  <thead>\n",
       "    <tr style=\"text-align: right;\">\n",
       "      <th></th>\n",
       "      <th>Recommended IND</th>\n",
       "      <th>Nilai_Prediksi</th>\n",
       "    </tr>\n",
       "  </thead>\n",
       "  <tbody>\n",
       "    <tr>\n",
       "      <th>0</th>\n",
       "      <td>1</td>\n",
       "      <td>1</td>\n",
       "    </tr>\n",
       "    <tr>\n",
       "      <th>1</th>\n",
       "      <td>1</td>\n",
       "      <td>1</td>\n",
       "    </tr>\n",
       "    <tr>\n",
       "      <th>2</th>\n",
       "      <td>1</td>\n",
       "      <td>1</td>\n",
       "    </tr>\n",
       "    <tr>\n",
       "      <th>3</th>\n",
       "      <td>1</td>\n",
       "      <td>1</td>\n",
       "    </tr>\n",
       "    <tr>\n",
       "      <th>4</th>\n",
       "      <td>1</td>\n",
       "      <td>1</td>\n",
       "    </tr>\n",
       "    <tr>\n",
       "      <th>5</th>\n",
       "      <td>0</td>\n",
       "      <td>0</td>\n",
       "    </tr>\n",
       "    <tr>\n",
       "      <th>6</th>\n",
       "      <td>1</td>\n",
       "      <td>1</td>\n",
       "    </tr>\n",
       "    <tr>\n",
       "      <th>7</th>\n",
       "      <td>1</td>\n",
       "      <td>1</td>\n",
       "    </tr>\n",
       "    <tr>\n",
       "      <th>8</th>\n",
       "      <td>1</td>\n",
       "      <td>1</td>\n",
       "    </tr>\n",
       "    <tr>\n",
       "      <th>9</th>\n",
       "      <td>1</td>\n",
       "      <td>1</td>\n",
       "    </tr>\n",
       "    <tr>\n",
       "      <th>10</th>\n",
       "      <td>0</td>\n",
       "      <td>0</td>\n",
       "    </tr>\n",
       "    <tr>\n",
       "      <th>11</th>\n",
       "      <td>1</td>\n",
       "      <td>1</td>\n",
       "    </tr>\n",
       "    <tr>\n",
       "      <th>12</th>\n",
       "      <td>1</td>\n",
       "      <td>1</td>\n",
       "    </tr>\n",
       "    <tr>\n",
       "      <th>13</th>\n",
       "      <td>1</td>\n",
       "      <td>1</td>\n",
       "    </tr>\n",
       "    <tr>\n",
       "      <th>14</th>\n",
       "      <td>1</td>\n",
       "      <td>1</td>\n",
       "    </tr>\n",
       "    <tr>\n",
       "      <th>15</th>\n",
       "      <td>1</td>\n",
       "      <td>1</td>\n",
       "    </tr>\n",
       "    <tr>\n",
       "      <th>16</th>\n",
       "      <td>1</td>\n",
       "      <td>1</td>\n",
       "    </tr>\n",
       "    <tr>\n",
       "      <th>17</th>\n",
       "      <td>1</td>\n",
       "      <td>1</td>\n",
       "    </tr>\n",
       "    <tr>\n",
       "      <th>18</th>\n",
       "      <td>1</td>\n",
       "      <td>1</td>\n",
       "    </tr>\n",
       "    <tr>\n",
       "      <th>19</th>\n",
       "      <td>0</td>\n",
       "      <td>0</td>\n",
       "    </tr>\n",
       "  </tbody>\n",
       "</table>\n",
       "</div>"
      ],
      "text/plain": [
       "   Recommended IND  Nilai_Prediksi\n",
       "0                1               1\n",
       "1                1               1\n",
       "2                1               1\n",
       "3                1               1\n",
       "4                1               1\n",
       "5                0               0\n",
       "6                1               1\n",
       "7                1               1\n",
       "8                1               1\n",
       "9                1               1\n",
       "10               0               0\n",
       "11               1               1\n",
       "12               1               1\n",
       "13               1               1\n",
       "14               1               1\n",
       "15               1               1\n",
       "16               1               1\n",
       "17               1               1\n",
       "18               1               1\n",
       "19               0               0"
      ]
     },
     "execution_count": 24,
     "metadata": {},
     "output_type": "execute_result"
    }
   ],
   "source": [
    "b = y_test.head(20).reset_index()\n",
    "b.drop('index',axis=1,inplace=True)\n",
    "b= b.rename(columns={'Recommended IDN':'Nilai_Aktual'})\n",
    "c = pd.DataFrame(y_jawaban)\n",
    "c= c.rename(columns={0:'Nilai_Prediksi'})\n",
    "predict = [b,c]\n",
    "predict = pd.concat(predict,axis=1,join='inner')\n",
    "predict"
   ]
  },
  {
   "cell_type": "markdown",
   "metadata": {
    "id": "CvImKfFsyOM5"
   },
   "source": [
    "Model AdaBoosClassifier mampu memprediksi benar 100% untuk 20 data pertama."
   ]
  },
  {
   "cell_type": "markdown",
   "metadata": {
    "id": "vMacSon6nal_"
   },
   "source": [
    "# Kesimpulan"
   ]
  },
  {
   "cell_type": "markdown",
   "metadata": {
    "id": "RVsnFgKJ1hPt"
   },
   "source": [
    "Dari hasil analisis deskriptif dapat kita simpulkan produk pakaian dresses, knits dan blouse merupakan produk yang paling sering muncul untuk produk rekomendasi dan 3 produk tersebut paling banyak menerima positif feedback."
   ]
  },
  {
   "cell_type": "markdown",
   "metadata": {
    "id": "WWPb5Fz41utp"
   },
   "source": [
    "Model Gradient Boosting Classifier dan Ada Boost Classifier memberikan nilai accuracy yang baik pada data test, yaitu masing-masing sebesar 93,91% dan 93,89%. Artinya dari 23486 data, model Gradient Boosting Classifier mampu memprediksi benar sebesar 22055 dan prediksi salah 1431."
   ]
  }
 ],
 "metadata": {
  "colab": {
   "authorship_tag": "ABX9TyOa3mnjY11eN6u7EpZAqBYB",
   "collapsed_sections": [
    "4hwsH3Cnm7-M",
    "QjzcjZB8nE1G"
   ],
   "name": "Product Fashion Recommendation.ipynb",
   "provenance": [
    {
     "file_id": "1adxK76seR2XhJIVvJ7Z4J4QIg_2aXqO-",
     "timestamp": 1638889862408
    },
    {
     "file_id": "1hTCn5VhLPRep3CKi4gGs2SP-568pwysS",
     "timestamp": 1638778987472
    }
   ]
  },
  "kernelspec": {
   "display_name": "Python 3",
   "language": "python",
   "name": "python3"
  },
  "language_info": {
   "codemirror_mode": {
    "name": "ipython",
    "version": 3
   },
   "file_extension": ".py",
   "mimetype": "text/x-python",
   "name": "python",
   "nbconvert_exporter": "python",
   "pygments_lexer": "ipython3",
   "version": "3.8.8"
  }
 },
 "nbformat": 4,
 "nbformat_minor": 1
}
